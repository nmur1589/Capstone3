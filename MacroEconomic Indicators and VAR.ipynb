{
 "cells": [
  {
   "cell_type": "markdown",
   "metadata": {},
   "source": [
    "# Data Wrangling 2 Macro Economic Indicators"
   ]
  },
  {
   "cell_type": "code",
   "execution_count": 2,
   "metadata": {},
   "outputs": [],
   "source": [
    "#import packages\n",
    "\n",
    "import pandas as pd\n",
    "from pandas_datareader.data import DataReader\n",
    "from pandas.tseries.offsets import MonthEnd\n",
    "from datetime import date\n",
    "import requests\n",
    "import collections\n",
    "import pandas as pd \n",
    "import os\n",
    "import seaborn as sns\n",
    "import numpy as np\n",
    "import matplotlib.pyplot as plt\n",
    "import warnings\n",
    "warnings.filterwarnings(\"ignore\")\n",
    "from sklearn.metrics import r2_score, mean_squared_error\n",
    "import numpy as np\n"
   ]
  },
  {
   "cell_type": "markdown",
   "metadata": {},
   "source": [
    "#### <font color=blue> Text Import GDP, Mortgage Rates, Unemployment Rates, Consumer Sentiment, and Housing Startings from Fed Reserve Database using pandas datareader package"
   ]
  },
  {
   "cell_type": "code",
   "execution_count": 3,
   "metadata": {},
   "outputs": [],
   "source": [
    "#function to switch monthly dates to month end date - setting this up so we can merge to the housing data on the date column\n",
    "def ME(field, num):\n",
    "    return pd.to_datetime(field) + MonthEnd(num)"
   ]
  },
  {
   "cell_type": "code",
   "execution_count": 4,
   "metadata": {},
   "outputs": [],
   "source": [
    "#define start date\n",
    "start = date(1990,1,1)\n",
    "\n",
    "#GDP Data\n",
    "GDP = DataReader('GDPC1', 'fred', start )\n",
    "GDP['growth'] = GDP.GDPC1.pct_change(periods = 1)\n",
    "GDP = GDP.reset_index()\n",
    "GDP.columns = ['DATE', 'GDP', 'GDP Growh']\n",
    "\n",
    "#ensure all monthly dates represent month end date\n",
    "GDP['DATE'] = pd.to_datetime(GDP['DATE']) + MonthEnd(1)\n",
    "\n",
    "\n",
    "#30 Year fixed mortgage interest rate\n",
    "MortRate = DataReader('MORTGAGE30US', 'fred',start).reset_index()\n",
    "MortRate = MortRate.set_index(pd.to_datetime(MortRate.DATE)).drop(columns = 'DATE')\n",
    "\n",
    "#data pulls weekly rates - resample to monthly average\n",
    "MortRate = MortRate.resample('M').mean().reset_index()\n",
    "\n",
    "#import unemployment rate\n",
    "UNRATE = DataReader('UNRATE', 'fred',start).reset_index()\n",
    "#ensure all monthly dates represent month end date\n",
    "UNRATE['DATE'] = pd.to_datetime(UNRATE['DATE']) + MonthEnd(1)\n",
    "\n",
    "\n",
    "#import Consumer Sentiment Score\n",
    "CS = DataReader('UMCSENT', 'fred', start).reset_index()\n",
    "#ensure all monthly dates represent month end date\n",
    "CS['DATE'] = pd.to_datetime(CS['DATE']) + MonthEnd(1)\n",
    "\n",
    "\n",
    "HOUST = DataReader('HOUST', 'fred',start).reset_index()\n",
    "#ensure all monthly dates represent month end date\n",
    "HOUST.DATE = HOUST.DATE.apply(ME, args = (1,))"
   ]
  },
  {
   "cell_type": "code",
   "execution_count": 5,
   "metadata": {},
   "outputs": [],
   "source": [
    "# define function to pull Qundal Data\n",
    "\n",
    "def Quandl(url, param_dict, col_names):\n",
    "    \n",
    "    r = requests.get(url, params = param_dict)\n",
    "    json_data = r.json()\n",
    "    df = pd.DataFrame(json_data['dataset']['data'], columns = col_names)\n",
    "    df.DATE = df.DATE.astype('datetime64[ns]')\n",
    "    return df\n",
    "\n",
    "\n",
    "\n"
   ]
  },
  {
   "cell_type": "code",
   "execution_count": 6,
   "metadata": {},
   "outputs": [],
   "source": [
    "# Import S&P 500 P&E Ratios\n",
    "API_KEY = 'pTsozhv5F_xzhfyMkVQi'\n",
    "url = \"https://www.quandl.com/api/v3/datasets/MULTPL/SP500_PE_RATIO_MONTH.json\"\n",
    "p = dict(start_date = '1990-01-01' , api_key = API_KEY)\n",
    "\n",
    "#call my quandl function\n",
    "PE = Quandl(url, p, ['DATE', 'PE_Ratio'])\n",
    "\n",
    "\n",
    "#most months produced only one record (at the beginning of the month)\n",
    "#some were producing two records one on the first and one on the last. Filter data to only first of month\n",
    "\n",
    "PE = PE[pd.to_datetime(PE[\"DATE\"]).dt.is_month_end == False]\n",
    "#switch dates to month end date\n",
    "PE['DATE'] = pd.to_datetime(PE['DATE']) + MonthEnd(-1)"
   ]
  },
  {
   "cell_type": "code",
   "execution_count": 7,
   "metadata": {},
   "outputs": [],
   "source": [
    "#Import S&P Prices and Get Growth Rate by Quarter\n",
    "\n",
    "API_KEY = 'pTsozhv5F_xzhfyMkVQi'\n",
    "url = \"https://www.quandl.com/api/v3/datasets/MULTPL/SP500_REAL_PRICE_MONTH.json\"\n",
    "p = dict(start_date = '1990-01-01' , api_key = API_KEY)\n",
    "\n",
    "#call my quandl function\n",
    "SP = Quandl(url, p, ['DATE', 'SP_Value'])\n",
    "SP = SP.sort_values(by= 'DATE')\n",
    "\n",
    "\n",
    "#Calculate percent changes from prior quarter\n",
    "SP['SP500 Growth'] = SP['SP_Value'].pct_change()\n",
    "\n",
    "SP = SP[pd.to_datetime(SP[\"DATE\"]).dt.is_month_end == False]\n",
    "SP.DATE = SP.DATE.apply(ME, args = (-1,))"
   ]
  },
  {
   "cell_type": "code",
   "execution_count": 8,
   "metadata": {},
   "outputs": [],
   "source": [
    "#Merge everything together\n",
    "dfMacro = MortRate.merge(GDP, on = 'DATE', how = 'left').fillna(method = \"ffill\")\n",
    "dfMacro = dfMacro.merge(UNRATE, on = 'DATE', how = 'left')\n",
    "dfMacro = dfMacro.merge(CS, on = 'DATE', how = 'left')\n",
    "dfMacro = dfMacro.merge(HOUST, on = 'DATE', how = 'left')\n",
    "dfMacro = dfMacro.merge(SP, on = 'DATE', how = 'left')\n",
    "dfMacro = dfMacro.merge(PE, on = 'DATE', how = 'left')"
   ]
  },
  {
   "cell_type": "code",
   "execution_count": 9,
   "metadata": {},
   "outputs": [
    {
     "data": {
      "text/plain": [
       "DATE            0\n",
       "MORTGAGE30US    0\n",
       "GDP             0\n",
       "GDP Growh       3\n",
       "UNRATE          1\n",
       "UMCSENT         1\n",
       "HOUST           1\n",
       "SP_Value        2\n",
       "SP500 Growth    2\n",
       "PE_Ratio        2\n",
       "dtype: int64"
      ]
     },
     "execution_count": 9,
     "metadata": {},
     "output_type": "execute_result"
    }
   ],
   "source": [
    "#Review NA Values\n",
    "dfMacro.isna().sum()"
   ]
  },
  {
   "cell_type": "code",
   "execution_count": 10,
   "metadata": {},
   "outputs": [],
   "source": [
    "#drop NA values\n",
    "dfMacro = dfMacro.dropna()"
   ]
  },
  {
   "cell_type": "code",
   "execution_count": 11,
   "metadata": {},
   "outputs": [
    {
     "data": {
      "text/html": [
       "<div>\n",
       "<style scoped>\n",
       "    .dataframe tbody tr th:only-of-type {\n",
       "        vertical-align: middle;\n",
       "    }\n",
       "\n",
       "    .dataframe tbody tr th {\n",
       "        vertical-align: top;\n",
       "    }\n",
       "\n",
       "    .dataframe thead th {\n",
       "        text-align: right;\n",
       "    }\n",
       "</style>\n",
       "<table border=\"1\" class=\"dataframe\">\n",
       "  <thead>\n",
       "    <tr style=\"text-align: right;\">\n",
       "      <th></th>\n",
       "      <th>DATE</th>\n",
       "      <th>MORTGAGE30US</th>\n",
       "      <th>GDP</th>\n",
       "      <th>GDP Growh</th>\n",
       "      <th>UNRATE</th>\n",
       "      <th>UMCSENT</th>\n",
       "      <th>HOUST</th>\n",
       "      <th>SP_Value</th>\n",
       "      <th>SP500 Growth</th>\n",
       "      <th>PE_Ratio</th>\n",
       "    </tr>\n",
       "  </thead>\n",
       "  <tbody>\n",
       "    <tr>\n",
       "      <th>3</th>\n",
       "      <td>1990-04-30</td>\n",
       "      <td>10.3700</td>\n",
       "      <td>9392.251</td>\n",
       "      <td>0.003629</td>\n",
       "      <td>5.4</td>\n",
       "      <td>93.9</td>\n",
       "      <td>1248.0</td>\n",
       "      <td>350.25</td>\n",
       "      <td>0.035691</td>\n",
       "      <td>16.37</td>\n",
       "    </tr>\n",
       "    <tr>\n",
       "      <th>4</th>\n",
       "      <td>1990-05-31</td>\n",
       "      <td>10.4775</td>\n",
       "      <td>9392.251</td>\n",
       "      <td>0.003629</td>\n",
       "      <td>5.4</td>\n",
       "      <td>90.6</td>\n",
       "      <td>1212.0</td>\n",
       "      <td>360.39</td>\n",
       "      <td>0.028951</td>\n",
       "      <td>16.95</td>\n",
       "    </tr>\n",
       "    <tr>\n",
       "      <th>5</th>\n",
       "      <td>1990-06-30</td>\n",
       "      <td>10.1640</td>\n",
       "      <td>9392.251</td>\n",
       "      <td>0.003629</td>\n",
       "      <td>5.2</td>\n",
       "      <td>88.3</td>\n",
       "      <td>1177.0</td>\n",
       "      <td>360.03</td>\n",
       "      <td>-0.000999</td>\n",
       "      <td>16.81</td>\n",
       "    </tr>\n",
       "    <tr>\n",
       "      <th>6</th>\n",
       "      <td>1990-07-31</td>\n",
       "      <td>10.0350</td>\n",
       "      <td>9398.499</td>\n",
       "      <td>0.000665</td>\n",
       "      <td>5.5</td>\n",
       "      <td>88.2</td>\n",
       "      <td>1171.0</td>\n",
       "      <td>330.75</td>\n",
       "      <td>-0.081327</td>\n",
       "      <td>15.33</td>\n",
       "    </tr>\n",
       "    <tr>\n",
       "      <th>7</th>\n",
       "      <td>1990-08-31</td>\n",
       "      <td>10.1000</td>\n",
       "      <td>9398.499</td>\n",
       "      <td>0.000665</td>\n",
       "      <td>5.7</td>\n",
       "      <td>76.4</td>\n",
       "      <td>1115.0</td>\n",
       "      <td>315.41</td>\n",
       "      <td>-0.046379</td>\n",
       "      <td>14.51</td>\n",
       "    </tr>\n",
       "    <tr>\n",
       "      <th>...</th>\n",
       "      <td>...</td>\n",
       "      <td>...</td>\n",
       "      <td>...</td>\n",
       "      <td>...</td>\n",
       "      <td>...</td>\n",
       "      <td>...</td>\n",
       "      <td>...</td>\n",
       "      <td>...</td>\n",
       "      <td>...</td>\n",
       "      <td>...</td>\n",
       "    </tr>\n",
       "    <tr>\n",
       "      <th>367</th>\n",
       "      <td>2020-05-31</td>\n",
       "      <td>3.2325</td>\n",
       "      <td>17302.511</td>\n",
       "      <td>-0.089861</td>\n",
       "      <td>13.3</td>\n",
       "      <td>72.3</td>\n",
       "      <td>1038.0</td>\n",
       "      <td>3104.66</td>\n",
       "      <td>0.063382</td>\n",
       "      <td>31.29</td>\n",
       "    </tr>\n",
       "    <tr>\n",
       "      <th>368</th>\n",
       "      <td>2020-06-30</td>\n",
       "      <td>3.1625</td>\n",
       "      <td>17302.511</td>\n",
       "      <td>-0.089861</td>\n",
       "      <td>11.1</td>\n",
       "      <td>78.1</td>\n",
       "      <td>1265.0</td>\n",
       "      <td>3207.62</td>\n",
       "      <td>0.034619</td>\n",
       "      <td>32.33</td>\n",
       "    </tr>\n",
       "    <tr>\n",
       "      <th>369</th>\n",
       "      <td>2020-07-31</td>\n",
       "      <td>3.0160</td>\n",
       "      <td>18583.501</td>\n",
       "      <td>0.074035</td>\n",
       "      <td>10.2</td>\n",
       "      <td>72.5</td>\n",
       "      <td>1487.0</td>\n",
       "      <td>3391.71</td>\n",
       "      <td>0.036865</td>\n",
       "      <td>34.18</td>\n",
       "    </tr>\n",
       "    <tr>\n",
       "      <th>370</th>\n",
       "      <td>2020-08-31</td>\n",
       "      <td>2.9350</td>\n",
       "      <td>18583.501</td>\n",
       "      <td>0.074035</td>\n",
       "      <td>8.4</td>\n",
       "      <td>74.1</td>\n",
       "      <td>1373.0</td>\n",
       "      <td>3365.52</td>\n",
       "      <td>-0.038508</td>\n",
       "      <td>33.92</td>\n",
       "    </tr>\n",
       "    <tr>\n",
       "      <th>371</th>\n",
       "      <td>2020-09-30</td>\n",
       "      <td>2.8900</td>\n",
       "      <td>18583.501</td>\n",
       "      <td>0.074035</td>\n",
       "      <td>7.9</td>\n",
       "      <td>80.4</td>\n",
       "      <td>1459.0</td>\n",
       "      <td>3374.70</td>\n",
       "      <td>0.003479</td>\n",
       "      <td>34.01</td>\n",
       "    </tr>\n",
       "  </tbody>\n",
       "</table>\n",
       "<p>369 rows × 10 columns</p>\n",
       "</div>"
      ],
      "text/plain": [
       "          DATE  MORTGAGE30US        GDP  GDP Growh  UNRATE  UMCSENT   HOUST  \\\n",
       "3   1990-04-30       10.3700   9392.251   0.003629     5.4     93.9  1248.0   \n",
       "4   1990-05-31       10.4775   9392.251   0.003629     5.4     90.6  1212.0   \n",
       "5   1990-06-30       10.1640   9392.251   0.003629     5.2     88.3  1177.0   \n",
       "6   1990-07-31       10.0350   9398.499   0.000665     5.5     88.2  1171.0   \n",
       "7   1990-08-31       10.1000   9398.499   0.000665     5.7     76.4  1115.0   \n",
       "..         ...           ...        ...        ...     ...      ...     ...   \n",
       "367 2020-05-31        3.2325  17302.511  -0.089861    13.3     72.3  1038.0   \n",
       "368 2020-06-30        3.1625  17302.511  -0.089861    11.1     78.1  1265.0   \n",
       "369 2020-07-31        3.0160  18583.501   0.074035    10.2     72.5  1487.0   \n",
       "370 2020-08-31        2.9350  18583.501   0.074035     8.4     74.1  1373.0   \n",
       "371 2020-09-30        2.8900  18583.501   0.074035     7.9     80.4  1459.0   \n",
       "\n",
       "     SP_Value  SP500 Growth  PE_Ratio  \n",
       "3      350.25      0.035691     16.37  \n",
       "4      360.39      0.028951     16.95  \n",
       "5      360.03     -0.000999     16.81  \n",
       "6      330.75     -0.081327     15.33  \n",
       "7      315.41     -0.046379     14.51  \n",
       "..        ...           ...       ...  \n",
       "367   3104.66      0.063382     31.29  \n",
       "368   3207.62      0.034619     32.33  \n",
       "369   3391.71      0.036865     34.18  \n",
       "370   3365.52     -0.038508     33.92  \n",
       "371   3374.70      0.003479     34.01  \n",
       "\n",
       "[369 rows x 10 columns]"
      ]
     },
     "execution_count": 11,
     "metadata": {},
     "output_type": "execute_result"
    }
   ],
   "source": [
    "dfMacro"
   ]
  },
  {
   "cell_type": "code",
   "execution_count": 12,
   "metadata": {},
   "outputs": [],
   "source": [
    "#import home values from data wrangling 1\n",
    "os.chdir(r'C:\\Users\\nickmrry\\Desktop\\Springboard')\n",
    "HomeValues = pd.read_csv('HomeVals_Clustered.csv')"
   ]
  },
  {
   "cell_type": "code",
   "execution_count": 13,
   "metadata": {},
   "outputs": [],
   "source": [
    "#filter to cluster 2, summarize by cluster 2 average values, merge with Macro Eco Data\n",
    "avg_c2 = HomeValues[HomeValues.labels == 2].groupby('Date')['Price'].mean().reset_index()\n",
    "avg_c2.columns = ['DATE', 'Price']\n",
    "avg_c2.DATE = pd.to_datetime(avg_c2.DATE)\n",
    "df = avg_c2.merge(dfMacro, on = 'DATE', how = 'left')"
   ]
  },
  {
   "cell_type": "code",
   "execution_count": 14,
   "metadata": {},
   "outputs": [
    {
     "data": {
      "text/plain": [
       "DATE     datetime64[ns]\n",
       "Price           float64\n",
       "dtype: object"
      ]
     },
     "execution_count": 14,
     "metadata": {},
     "output_type": "execute_result"
    }
   ],
   "source": [
    "avg_c2.dtypes"
   ]
  },
  {
   "cell_type": "markdown",
   "metadata": {},
   "source": [
    "# Examine Correlation of Variables"
   ]
  },
  {
   "cell_type": "code",
   "execution_count": 15,
   "metadata": {},
   "outputs": [
    {
     "data": {
      "image/png": "[encoded data removed]",
      "text/plain": [
       "<Figure size 792x648 with 2 Axes>"
      ]
     },
     "metadata": {
      "needs_background": "light"
     },
     "output_type": "display_data"
    },
    {
     "data": {
      "text/html": [
       "<div>\n",
       "<style scoped>\n",
       "    .dataframe tbody tr th:only-of-type {\n",
       "        vertical-align: middle;\n",
       "    }\n",
       "\n",
       "    .dataframe tbody tr th {\n",
       "        vertical-align: top;\n",
       "    }\n",
       "\n",
       "    .dataframe thead th {\n",
       "        text-align: right;\n",
       "    }\n",
       "</style>\n",
       "<table border=\"1\" class=\"dataframe\">\n",
       "  <thead>\n",
       "    <tr style=\"text-align: right;\">\n",
       "      <th></th>\n",
       "      <th>Price</th>\n",
       "      <th>MORTGAGE30US</th>\n",
       "      <th>GDP</th>\n",
       "      <th>GDP Growh</th>\n",
       "      <th>UNRATE</th>\n",
       "      <th>UMCSENT</th>\n",
       "      <th>HOUST</th>\n",
       "      <th>SP_Value</th>\n",
       "      <th>SP500 Growth</th>\n",
       "      <th>PE_Ratio</th>\n",
       "    </tr>\n",
       "  </thead>\n",
       "  <tbody>\n",
       "    <tr>\n",
       "      <th>Price</th>\n",
       "      <td>1.000000</td>\n",
       "      <td>-0.793881</td>\n",
       "      <td>0.958580</td>\n",
       "      <td>-0.210219</td>\n",
       "      <td>0.063389</td>\n",
       "      <td>-0.260464</td>\n",
       "      <td>-0.306474</td>\n",
       "      <td>0.839414</td>\n",
       "      <td>-0.057480</td>\n",
       "      <td>-0.037333</td>\n",
       "    </tr>\n",
       "    <tr>\n",
       "      <th>MORTGAGE30US</th>\n",
       "      <td>-0.793881</td>\n",
       "      <td>1.000000</td>\n",
       "      <td>-0.876605</td>\n",
       "      <td>0.143446</td>\n",
       "      <td>-0.362248</td>\n",
       "      <td>0.390097</td>\n",
       "      <td>0.524581</td>\n",
       "      <td>-0.664654</td>\n",
       "      <td>-0.051952</td>\n",
       "      <td>0.098929</td>\n",
       "    </tr>\n",
       "    <tr>\n",
       "      <th>GDP</th>\n",
       "      <td>0.958580</td>\n",
       "      <td>-0.876605</td>\n",
       "      <td>1.000000</td>\n",
       "      <td>-0.135649</td>\n",
       "      <td>0.058389</td>\n",
       "      <td>-0.241879</td>\n",
       "      <td>-0.393158</td>\n",
       "      <td>0.843315</td>\n",
       "      <td>-0.043989</td>\n",
       "      <td>-0.125817</td>\n",
       "    </tr>\n",
       "    <tr>\n",
       "      <th>GDP Growh</th>\n",
       "      <td>-0.210219</td>\n",
       "      <td>0.143446</td>\n",
       "      <td>-0.135649</td>\n",
       "      <td>1.000000</td>\n",
       "      <td>-0.241925</td>\n",
       "      <td>0.217725</td>\n",
       "      <td>0.199608</td>\n",
       "      <td>-0.085881</td>\n",
       "      <td>0.066900</td>\n",
       "      <td>-0.144161</td>\n",
       "    </tr>\n",
       "    <tr>\n",
       "      <th>UNRATE</th>\n",
       "      <td>0.063389</td>\n",
       "      <td>-0.362248</td>\n",
       "      <td>0.058389</td>\n",
       "      <td>-0.241925</td>\n",
       "      <td>1.000000</td>\n",
       "      <td>-0.743033</td>\n",
       "      <td>-0.630975</td>\n",
       "      <td>-0.205529</td>\n",
       "      <td>0.097377</td>\n",
       "      <td>0.168325</td>\n",
       "    </tr>\n",
       "    <tr>\n",
       "      <th>UMCSENT</th>\n",
       "      <td>-0.260464</td>\n",
       "      <td>0.390097</td>\n",
       "      <td>-0.241879</td>\n",
       "      <td>0.217725</td>\n",
       "      <td>-0.743033</td>\n",
       "      <td>1.000000</td>\n",
       "      <td>0.632601</td>\n",
       "      <td>0.171688</td>\n",
       "      <td>0.016832</td>\n",
       "      <td>-0.202895</td>\n",
       "    </tr>\n",
       "    <tr>\n",
       "      <th>HOUST</th>\n",
       "      <td>-0.306474</td>\n",
       "      <td>0.524581</td>\n",
       "      <td>-0.393158</td>\n",
       "      <td>0.199608</td>\n",
       "      <td>-0.630975</td>\n",
       "      <td>0.632601</td>\n",
       "      <td>1.000000</td>\n",
       "      <td>-0.129631</td>\n",
       "      <td>-0.022268</td>\n",
       "      <td>-0.151303</td>\n",
       "    </tr>\n",
       "    <tr>\n",
       "      <th>SP_Value</th>\n",
       "      <td>0.839414</td>\n",
       "      <td>-0.664654</td>\n",
       "      <td>0.843315</td>\n",
       "      <td>-0.085881</td>\n",
       "      <td>-0.205529</td>\n",
       "      <td>0.171688</td>\n",
       "      <td>-0.129631</td>\n",
       "      <td>1.000000</td>\n",
       "      <td>0.025983</td>\n",
       "      <td>-0.167655</td>\n",
       "    </tr>\n",
       "    <tr>\n",
       "      <th>SP500 Growth</th>\n",
       "      <td>-0.057480</td>\n",
       "      <td>-0.051952</td>\n",
       "      <td>-0.043989</td>\n",
       "      <td>0.066900</td>\n",
       "      <td>0.097377</td>\n",
       "      <td>0.016832</td>\n",
       "      <td>-0.022268</td>\n",
       "      <td>0.025983</td>\n",
       "      <td>1.000000</td>\n",
       "      <td>0.050452</td>\n",
       "    </tr>\n",
       "    <tr>\n",
       "      <th>PE_Ratio</th>\n",
       "      <td>-0.037333</td>\n",
       "      <td>0.098929</td>\n",
       "      <td>-0.125817</td>\n",
       "      <td>-0.144161</td>\n",
       "      <td>0.168325</td>\n",
       "      <td>-0.202895</td>\n",
       "      <td>-0.151303</td>\n",
       "      <td>-0.167655</td>\n",
       "      <td>0.050452</td>\n",
       "      <td>1.000000</td>\n",
       "    </tr>\n",
       "  </tbody>\n",
       "</table>\n",
       "</div>"
      ],
      "text/plain": [
       "                 Price  MORTGAGE30US       GDP  GDP Growh    UNRATE   UMCSENT  \\\n",
       "Price         1.000000     -0.793881  0.958580  -0.210219  0.063389 -0.260464   \n",
       "MORTGAGE30US -0.793881      1.000000 -0.876605   0.143446 -0.362248  0.390097   \n",
       "GDP           0.958580     -0.876605  1.000000  -0.135649  0.058389 -0.241879   \n",
       "GDP Growh    -0.210219      0.143446 -0.135649   1.000000 -0.241925  0.217725   \n",
       "UNRATE        0.063389     -0.362248  0.058389  -0.241925  1.000000 -0.743033   \n",
       "UMCSENT      -0.260464      0.390097 -0.241879   0.217725 -0.743033  1.000000   \n",
       "HOUST        -0.306474      0.524581 -0.393158   0.199608 -0.630975  0.632601   \n",
       "SP_Value      0.839414     -0.664654  0.843315  -0.085881 -0.205529  0.171688   \n",
       "SP500 Growth -0.057480     -0.051952 -0.043989   0.066900  0.097377  0.016832   \n",
       "PE_Ratio     -0.037333      0.098929 -0.125817  -0.144161  0.168325 -0.202895   \n",
       "\n",
       "                 HOUST  SP_Value  SP500 Growth  PE_Ratio  \n",
       "Price        -0.306474  0.839414     -0.057480 -0.037333  \n",
       "MORTGAGE30US  0.524581 -0.664654     -0.051952  0.098929  \n",
       "GDP          -0.393158  0.843315     -0.043989 -0.125817  \n",
       "GDP Growh     0.199608 -0.085881      0.066900 -0.144161  \n",
       "UNRATE       -0.630975 -0.205529      0.097377  0.168325  \n",
       "UMCSENT       0.632601  0.171688      0.016832 -0.202895  \n",
       "HOUST         1.000000 -0.129631     -0.022268 -0.151303  \n",
       "SP_Value     -0.129631  1.000000      0.025983 -0.167655  \n",
       "SP500 Growth -0.022268  0.025983      1.000000  0.050452  \n",
       "PE_Ratio     -0.151303 -0.167655      0.050452  1.000000  "
      ]
     },
     "execution_count": 15,
     "metadata": {},
     "output_type": "execute_result"
    }
   ],
   "source": [
    "corr = df.corr()\n",
    "# Generate a mask for the upper triangle\n",
    "mask = np.triu(np.ones_like(corr, dtype=bool))\n",
    "\n",
    "# Set up the matplotlib figure\n",
    "f, ax = plt.subplots(figsize=(11, 9))\n",
    "\n",
    "# Generate a custom diverging colormap\n",
    "cmap = sns.diverging_palette(230, 20, as_cmap=True)\n",
    "\n",
    "# Draw the heatmap with the mask and correct aspect ratio\n",
    "s = sns.heatmap(corr, mask=mask, cmap=cmap, vmax=.3, center=0,\n",
    "            square=True, linewidths=.5, cbar_kws={\"shrink\": .5})\n",
    "\n",
    "\n",
    "plt.show()\n",
    "corr"
   ]
  },
  {
   "cell_type": "markdown",
   "metadata": {},
   "source": [
    "### Plot With Price with Various X Variables"
   ]
  },
  {
   "cell_type": "code",
   "execution_count": 16,
   "metadata": {},
   "outputs": [],
   "source": [
    "def dual_axis(x, y1,y2, y1_title, y2_title):\n",
    "\n",
    "    fig, ax1 = plt.subplots()\n",
    "    t = x\n",
    "    data1 = y1\n",
    "    data2 = y2\n",
    "\n",
    "    color = 'tab:red'\n",
    "    ax1.set_xlabel('Month')\n",
    "    ax1.set_ylabel(y1_title, color=color)\n",
    "    ax1.plot(t, data1, color=color)\n",
    "    ax1.tick_params(axis='y', labelcolor=color)\n",
    "\n",
    "    ax2 = ax1.twinx()  # instantiate a second axes that shares the same x-axis\n",
    "\n",
    "    color = 'tab:blue'\n",
    "    ax2.set_ylabel(y2_title, color=color)  # we already handled the x-label with ax1\n",
    "    ax2.plot(t, data2, color=color)\n",
    "    ax2.tick_params(axis='y', labelcolor=color)\n",
    "\n",
    "    fig.tight_layout()  # otherwise the right y-label is slightly clipped\n",
    "    \n",
    "    plt.show()"
   ]
  },
  {
   "cell_type": "code",
   "execution_count": 17,
   "metadata": {},
   "outputs": [
    {
     "data": {
      "image/png": "[encoded data removed]",
      "text/plain": [
       "<Figure size 432x288 with 2 Axes>"
      ]
     },
     "metadata": {
      "needs_background": "light"
     },
     "output_type": "display_data"
    }
   ],
   "source": [
    "dual_axis(df.DATE, df.Price, df.MORTGAGE30US, \"Housing Price\", \"30 Year Mortgage Rates\")"
   ]
  },
  {
   "cell_type": "code",
   "execution_count": 18,
   "metadata": {},
   "outputs": [
    {
     "data": {
      "image/png": "[encoded data removed]",
      "text/plain": [
       "<Figure size 432x288 with 2 Axes>"
      ]
     },
     "metadata": {
      "needs_background": "light"
     },
     "output_type": "display_data"
    }
   ],
   "source": [
    "dual_axis(df.DATE, df.Price, df.SP_Value, \"Housing Price\", \"S&P Value\")"
   ]
  },
  {
   "cell_type": "code",
   "execution_count": 19,
   "metadata": {},
   "outputs": [
    {
     "data": {
      "image/png": "[encoded data removed]",
      "text/plain": [
       "<Figure size 432x288 with 2 Axes>"
      ]
     },
     "metadata": {
      "needs_background": "light"
     },
     "output_type": "display_data"
    }
   ],
   "source": [
    "dual_axis(df.DATE, df.Price, df.GDP, \"Housing Price\", \"GDP\")"
   ]
  },
  {
   "cell_type": "code",
   "execution_count": 20,
   "metadata": {},
   "outputs": [
    {
     "data": {
      "image/png": "[encoded data removed]",
      "text/plain": [
       "<Figure size 432x288 with 2 Axes>"
      ]
     },
     "metadata": {
      "needs_background": "light"
     },
     "output_type": "display_data"
    }
   ],
   "source": [
    "dual_axis(df.DATE, df.Price, df.UNRATE, \"Housing Price\", \"Unemployment\")"
   ]
  },
  {
   "cell_type": "code",
   "execution_count": 21,
   "metadata": {},
   "outputs": [
    {
     "data": {
      "image/png": "[encoded data removed]",
      "text/plain": [
       "<Figure size 432x288 with 2 Axes>"
      ]
     },
     "metadata": {
      "needs_background": "light"
     },
     "output_type": "display_data"
    }
   ],
   "source": [
    "dual_axis(df.DATE, df.Price, df.PE_Ratio, \"Housing Price\", \"S&P Aggregate PE Ratios\")"
   ]
  },
  {
   "cell_type": "code",
   "execution_count": 22,
   "metadata": {},
   "outputs": [],
   "source": [
    "# Drop Growh rate variables and Date for modeling\n",
    "df = df.drop(columns = ['SP500 Growth', 'GDP Growh', 'DATE'])\n"
   ]
  },
  {
   "cell_type": "markdown",
   "metadata": {},
   "source": [
    "# Run Graingers Causality Test for Time Series variables"
   ]
  },
  {
   "cell_type": "code",
   "execution_count": 23,
   "metadata": {},
   "outputs": [],
   "source": [
    "from statsmodels.tsa.stattools import grangercausalitytests\n",
    "maxlag=12\n",
    "test = 'ssr_chi2test'\n",
    "def grangers_causation_matrix(data, variables, test='ssr_chi2test', verbose=False):    \n",
    "    \"\"\"Check Granger Causality of all possible combinations of the Time series.\n",
    "    The rows are the response variable, columns are predictors. The values in the table \n",
    "    are the P-Values. P-Values lesser than the significance level (0.05), implies \n",
    "    the Null Hypothesis that the coefficients of the corresponding past values is \n",
    "    zero, that is, the X does not cause Y can be rejected.\n",
    "\n",
    "    data      : pandas dataframe containing the time series variables\n",
    "    variables : list containing names of the time series variables.\n",
    "    \"\"\"\n",
    "    df = pd.DataFrame(np.zeros((len(variables), len(variables))), columns=variables, index=variables)\n",
    "    for c in df.columns:\n",
    "        for r in df.index:\n",
    "            test_result = grangercausalitytests(data[[r, c]], maxlag=maxlag, verbose=False)\n",
    "            p_values = [round(test_result[i+1][0][test][1],4) for i in range(maxlag)]\n",
    "            if verbose: print(f'Y = {r}, X = {c}, P Values = {p_values}')\n",
    "            min_p_value = np.min(p_values)\n",
    "            df.loc[r, c] = min_p_value\n",
    "    df.columns = [var + '_x' for var in variables]\n",
    "    df.index = [var + '_y' for var in variables]\n",
    "    return df\n",
    "\n",
    "causality = grangers_causation_matrix(df, variables = df.columns) "
   ]
  },
  {
   "cell_type": "markdown",
   "metadata": {},
   "source": [
    "- P Values of Less than .05 are significant. One can assume the one variable causes the other\n",
    "- Examping the price as the y variable all variables are significant"
   ]
  },
  {
   "cell_type": "code",
   "execution_count": 24,
   "metadata": {},
   "outputs": [
    {
     "data": {
      "text/html": [
       "<div>\n",
       "<style scoped>\n",
       "    .dataframe tbody tr th:only-of-type {\n",
       "        vertical-align: middle;\n",
       "    }\n",
       "\n",
       "    .dataframe tbody tr th {\n",
       "        vertical-align: top;\n",
       "    }\n",
       "\n",
       "    .dataframe thead th {\n",
       "        text-align: right;\n",
       "    }\n",
       "</style>\n",
       "<table border=\"1\" class=\"dataframe\">\n",
       "  <thead>\n",
       "    <tr style=\"text-align: right;\">\n",
       "      <th></th>\n",
       "      <th>Price_x</th>\n",
       "      <th>MORTGAGE30US_x</th>\n",
       "      <th>GDP_x</th>\n",
       "      <th>UNRATE_x</th>\n",
       "      <th>UMCSENT_x</th>\n",
       "      <th>HOUST_x</th>\n",
       "      <th>SP_Value_x</th>\n",
       "      <th>PE_Ratio_x</th>\n",
       "    </tr>\n",
       "  </thead>\n",
       "  <tbody>\n",
       "    <tr>\n",
       "      <th>Price_y</th>\n",
       "      <td>False</td>\n",
       "      <td>True</td>\n",
       "      <td>True</td>\n",
       "      <td>True</td>\n",
       "      <td>True</td>\n",
       "      <td>True</td>\n",
       "      <td>True</td>\n",
       "      <td>True</td>\n",
       "    </tr>\n",
       "  </tbody>\n",
       "</table>\n",
       "</div>"
      ],
      "text/plain": [
       "         Price_x  MORTGAGE30US_x  GDP_x  UNRATE_x  UMCSENT_x  HOUST_x  \\\n",
       "Price_y    False            True   True      True       True     True   \n",
       "\n",
       "         SP_Value_x  PE_Ratio_x  \n",
       "Price_y        True        True  "
      ]
     },
     "execution_count": 24,
     "metadata": {},
     "output_type": "execute_result"
    },
    {
     "data": {
      "image/png": "[encoded data removed]",
      "text/plain": [
       "<Figure size 432x288 with 2 Axes>"
      ]
     },
     "metadata": {
      "needs_background": "light"
     },
     "output_type": "display_data"
    }
   ],
   "source": [
    "def gcause(df, threshold):\n",
    "    if df.value < threshold:\n",
    "        cause = \"Yes\"\n",
    "    else:\n",
    "        cause = \"No\"\n",
    "    return cause\n",
    "\n",
    "\n",
    "cmap = sns.diverging_palette(230, 20, as_cmap=True)\n",
    "sns.heatmap(causality, cmap = cmap)\n",
    "causality.apply(lambda x: x < .05, axis = 1).iloc[:1]"
   ]
  },
  {
   "cell_type": "code",
   "execution_count": 25,
   "metadata": {},
   "outputs": [
    {
     "name": "stdout",
     "output_type": "stream",
     "text": [
      "Name   ::  Test Stat > C(95%)    =>   Signif  \n",
      " ----------------------------------------\n",
      "Price  ::  284.12    > 143.6691  =>   True\n",
      "MORTGAGE30US ::  204.29    > 111.7797  =>   True\n",
      "GDP    ::  137.24    > 83.9383   =>   True\n",
      "UNRATE ::  88.22     > 60.0627   =>   True\n",
      "UMCSENT ::  41.94     > 40.1749   =>   True\n",
      "HOUST  ::  10.0      > 24.2761   =>   False\n",
      "SP_Value ::  4.1       > 12.3212   =>   False\n",
      "PE_Ratio ::  0.23      > 4.1296    =>   False\n"
     ]
    }
   ],
   "source": [
    "from statsmodels.tsa.vector_ar.vecm import coint_johansen\n",
    "\n",
    "def cointegration_test(df, alpha=0.05): \n",
    "    \"\"\"Perform Johanson's Cointegration Test and Report Summary\"\"\"\n",
    "    out = coint_johansen(df,-1,5)\n",
    "    d = {'0.90':0, '0.95':1, '0.99':2}\n",
    "    traces = out.lr1\n",
    "    cvts = out.cvt[:, d[str(1-alpha)]]\n",
    "    def adjust(val, length= 6): return str(val).ljust(length)\n",
    "\n",
    "    # Summary\n",
    "    print('Name   ::  Test Stat > C(95%)    =>   Signif  \\n', '--'*20)\n",
    "    for col, trace, cvt in zip(df.columns, traces, cvts):\n",
    "        print(adjust(col), ':: ', adjust(round(trace,2), 9), \">\", adjust(cvt, 8), ' =>  ' , trace > cvt)\n",
    "\n",
    "cointegration_test(df)"
   ]
  },
  {
   "cell_type": "markdown",
   "metadata": {},
   "source": [
    "# Check for Stationarity"
   ]
  },
  {
   "cell_type": "code",
   "execution_count": 26,
   "metadata": {},
   "outputs": [],
   "source": [
    "nobs = 12\n",
    "df_train, df_test = df[0:-nobs], df[-nobs:]"
   ]
  },
  {
   "cell_type": "code",
   "execution_count": 27,
   "metadata": {},
   "outputs": [
    {
     "name": "stdout",
     "output_type": "stream",
     "text": [
      "Test Statistic           -0.405260\n",
      "p-value                   0.909217\n",
      "# Lags                   16.000000\n",
      "# Observations          271.000000\n",
      "Critical Value (1%)      -3.454713\n",
      "Critical Value (5%)      -2.872265\n",
      "Critical Value (10%)     -2.572485\n",
      "dtype: float64\n",
      " Series is Non-Stationary\n"
     ]
    }
   ],
   "source": [
    "# Augmented Dickey-Fuller Test (ADF Test)/unit root test\n",
    "from statsmodels.tsa.stattools import adfuller\n",
    "def adf_test(ts, signif=0.05):\n",
    "    dftest = adfuller(ts, autolag='AIC')\n",
    "    adf = pd.Series(dftest[0:4], index=['Test Statistic','p-value','# Lags','# Observations'])\n",
    "    for key,value in dftest[4].items():\n",
    "       adf['Critical Value (%s)'%key] = value\n",
    "    print (adf)\n",
    "    \n",
    "    p = adf['p-value']\n",
    "    if p <= signif:\n",
    "        print(f\" Series is Stationary\")\n",
    "    else:\n",
    "        print(f\" Series is Non-Stationary\")\n",
    "#apply adf test on the series\n",
    "adf_test(df_train[\"Price\"])\n"
   ]
  },
  {
   "cell_type": "markdown",
   "metadata": {},
   "source": [
    "# Need two levels of differencing to make stationary"
   ]
  },
  {
   "cell_type": "code",
   "execution_count": 28,
   "metadata": {},
   "outputs": [],
   "source": [
    "df_differenced = df_train.diff().diff().dropna()"
   ]
  },
  {
   "cell_type": "code",
   "execution_count": 29,
   "metadata": {},
   "outputs": [
    {
     "name": "stdout",
     "output_type": "stream",
     "text": [
      "Test Statistic           -3.112036\n",
      "p-value                   0.025675\n",
      "# Lags                   16.000000\n",
      "# Observations          269.000000\n",
      "Critical Value (1%)      -3.454896\n",
      "Critical Value (5%)      -2.872345\n",
      "Critical Value (10%)     -2.572528\n",
      "dtype: float64\n",
      " Series is Stationary\n"
     ]
    }
   ],
   "source": [
    "adf_test(df_differenced[\"Price\"])"
   ]
  },
  {
   "cell_type": "markdown",
   "metadata": {},
   "source": [
    "# Find the best lag for VAR"
   ]
  },
  {
   "cell_type": "code",
   "execution_count": 30,
   "metadata": {},
   "outputs": [
    {
     "data": {
      "text/html": [
       "<table class=\"simpletable\">\n",
       "<caption>VAR Order Selection (* highlights the minimums)</caption>\n",
       "<tr>\n",
       "   <td></td>      <th>AIC</th>         <th>BIC</th>         <th>FPE</th>        <th>HQIC</th>    \n",
       "</tr>\n",
       "<tr>\n",
       "  <th>0</th>  <td>     34.83</td>  <td>     34.94</td>  <td> 1.341e+15</td>  <td>     34.87</td> \n",
       "</tr>\n",
       "<tr>\n",
       "  <th>1</th>  <td>     33.17</td>  <td>     34.12</td>  <td> 2.541e+14</td>  <td>     33.55</td> \n",
       "</tr>\n",
       "<tr>\n",
       "  <th>2</th>  <td>     31.51</td>  <td>     33.30*</td> <td> 4.821e+13</td>  <td>     32.23</td> \n",
       "</tr>\n",
       "<tr>\n",
       "  <th>3</th>  <td>     30.85</td>  <td>     33.49</td>  <td> 2.513e+13</td>  <td>     31.91</td> \n",
       "</tr>\n",
       "<tr>\n",
       "  <th>4</th>  <td>     30.52</td>  <td>     34.00</td>  <td> 1.806e+13</td>  <td>     31.91</td> \n",
       "</tr>\n",
       "<tr>\n",
       "  <th>5</th>  <td>     30.14</td>  <td>     34.47</td>  <td> 1.257e+13</td>  <td>     31.88*</td>\n",
       "</tr>\n",
       "<tr>\n",
       "  <th>6</th>  <td>     30.00</td>  <td>     35.17</td>  <td> 1.103e+13</td>  <td>     32.08</td> \n",
       "</tr>\n",
       "<tr>\n",
       "  <th>7</th>  <td>     29.61</td>  <td>     35.62</td>  <td> 7.594e+12</td>  <td>     32.02</td> \n",
       "</tr>\n",
       "<tr>\n",
       "  <th>8</th>  <td>     29.53*</td> <td>     36.39</td>  <td> 7.225e+12*</td> <td>     32.29</td> \n",
       "</tr>\n",
       "<tr>\n",
       "  <th>9</th>  <td>     29.55</td>  <td>     37.25</td>  <td> 7.581e+12</td>  <td>     32.64</td> \n",
       "</tr>\n",
       "<tr>\n",
       "  <th>10</th> <td>     29.61</td>  <td>     38.15</td>  <td> 8.340e+12</td>  <td>     33.04</td> \n",
       "</tr>\n",
       "<tr>\n",
       "  <th>11</th> <td>     29.61</td>  <td>     39.00</td>  <td> 8.768e+12</td>  <td>     33.38</td> \n",
       "</tr>\n",
       "<tr>\n",
       "  <th>12</th> <td>     29.66</td>  <td>     39.89</td>  <td> 9.781e+12</td>  <td>     33.76</td> \n",
       "</tr>\n",
       "</table>"
      ],
      "text/plain": [
       "<class 'statsmodels.iolib.table.SimpleTable'>"
      ]
     },
     "execution_count": 30,
     "metadata": {},
     "output_type": "execute_result"
    }
   ],
   "source": [
    "from statsmodels.tsa.api import VAR\n",
    "model = VAR(df_differenced)\n",
    "x = model.select_order(maxlags=12)\n",
    "x.summary()\n"
   ]
  },
  {
   "cell_type": "code",
   "execution_count": 31,
   "metadata": {},
   "outputs": [
    {
     "name": "stdout",
     "output_type": "stream",
     "text": [
      "Lag Order = 1\n",
      "AIC :  33.11317937300378\n",
      "BIC :  34.035913481703226\n",
      "FPE :  240405315180561.34\n",
      "HQIC:  33.48308051541309 \n",
      "\n",
      "Lag Order = 2\n",
      "AIC :  31.38089717323378\n",
      "BIC :  33.12829328728281\n",
      "FPE :  42564579029335.984\n",
      "HQIC:  32.08146379996265 \n",
      "\n",
      "Lag Order = 3\n",
      "AIC :  30.756808193276246\n",
      "BIC :  33.33309575344815\n",
      "FPE :  22862113311721.492\n",
      "HQIC:  31.789810824308574 \n",
      "\n",
      "Lag Order = 4\n",
      "AIC :  30.443086810148444\n",
      "BIC :  33.85253172762242\n",
      "FPE :  16788316659989.01\n",
      "HQIC:  31.810311245299054 \n",
      "\n",
      "Lag Order = 5\n",
      "AIC :  30.096106176351643\n",
      "BIC :  34.34301127080526\n",
      "FPE :  11963573183789.86\n",
      "HQIC:  31.7993536755022 \n",
      "\n",
      "Lag Order = 6\n",
      "AIC :  29.936969779234357\n",
      "BIC :  35.02567522367131\n",
      "FPE :  10330172534370.27\n",
      "HQIC:  31.978057245250383 \n",
      "\n",
      "Lag Order = 7\n",
      "AIC :  29.531516102264288\n",
      "BIC :  35.466399874703505\n",
      "FPE :  7008670369181.7705\n",
      "HQIC:  31.912276266641157 \n",
      "\n",
      "Lag Order = 8\n",
      "AIC :  29.4650918376939\n",
      "BIC :  36.25057017984905\n",
      "FPE :  6716517420285.807\n",
      "HQIC:  32.1873734489806 \n",
      "\n",
      "Lag Order = 9\n",
      "AIC :  29.50971077298728\n",
      "BIC :  37.15023865606817\n",
      "FPE :  7247006187857.831\n",
      "HQIC:  32.57537878803783 \n",
      "\n"
     ]
    }
   ],
   "source": [
    "for i in [1,2,3,4,5,6,7,8,9]:\n",
    "    result = model.fit(i)\n",
    "    print('Lag Order =', i)\n",
    "    print('AIC : ', result.aic)\n",
    "    print('BIC : ', result.bic)\n",
    "    print('FPE : ', result.fpe)\n",
    "    print('HQIC: ', result.hqic, '\\n')"
   ]
  },
  {
   "cell_type": "code",
   "execution_count": 32,
   "metadata": {},
   "outputs": [
    {
     "data": {
      "text/plain": [
       "  Summary of Regression Results   \n",
       "==================================\n",
       "Model:                         VAR\n",
       "Method:                        OLS\n",
       "Date:           Wed, 25, Nov, 2020\n",
       "Time:                     19:21:57\n",
       "--------------------------------------------------------------------\n",
       "No. of Equations:         8.00000    BIC:                    36.2506\n",
       "Nobs:                     278.000    HQIC:                   32.1874\n",
       "Log likelihood:          -6731.37    FPE:                6.71652e+12\n",
       "AIC:                      29.4651    Det(Omega_mle):     1.25069e+12\n",
       "--------------------------------------------------------------------\n",
       "Results for equation Price\n",
       "==================================================================================\n",
       "                     coefficient       std. error           t-stat            prob\n",
       "----------------------------------------------------------------------------------\n",
       "const                   0.381198         1.988941            0.192           0.848\n",
       "L1.Price                0.518823         0.068183            7.609           0.000\n",
       "L1.MORTGAGE30US        16.931534        13.550392            1.250           0.211\n",
       "L1.GDP                  0.073909         0.050415            1.466           0.143\n",
       "L1.UNRATE             -11.273164        17.477693           -0.645           0.519\n",
       "L1.UMCSENT              0.884487         0.598758            1.477           0.140\n",
       "L1.HOUST               -0.005652         0.029070           -0.194           0.846\n",
       "L1.SP_Value            -0.068766         0.047538           -1.447           0.148\n",
       "L1.PE_Ratio            -1.435623         0.848480           -1.692           0.091\n",
       "L2.Price                0.167812         0.073310            2.289           0.022\n",
       "L2.MORTGAGE30US         2.039823        15.208788            0.134           0.893\n",
       "L2.GDP                  0.047794         0.071562            0.668           0.504\n",
       "L2.UNRATE              -4.301535        26.046316           -0.165           0.869\n",
       "L2.UMCSENT              0.950077         0.839025            1.132           0.257\n",
       "L2.HOUST                0.024242         0.052599            0.461           0.645\n",
       "L2.SP_Value            -0.054202         0.057145           -0.949           0.343\n",
       "L2.PE_Ratio            -1.283494         0.876575           -1.464           0.143\n",
       "L3.Price               -0.716011         0.070803          -10.113           0.000\n",
       "L3.MORTGAGE30US         1.099021        16.736293            0.066           0.948\n",
       "L3.GDP                 -0.028205         0.089765           -0.314           0.753\n",
       "L3.UNRATE               8.042194        30.804350            0.261           0.794\n",
       "L3.UMCSENT              0.870577         1.016366            0.857           0.392\n",
       "L3.HOUST                0.038617         0.069750            0.554           0.580\n",
       "L3.SP_Value            -0.035901         0.066874           -0.537           0.591\n",
       "L3.PE_Ratio            -0.337305         0.850583           -0.397           0.692\n",
       "L4.Price                0.531728         0.087486            6.078           0.000\n",
       "L4.MORTGAGE30US         0.094932        16.992894            0.006           0.996\n",
       "L4.GDP                 -0.063402         0.088974           -0.713           0.476\n",
       "L4.UNRATE              12.712916        32.898668            0.386           0.699\n",
       "L4.UMCSENT              1.152106         1.075519            1.071           0.284\n",
       "L4.HOUST                0.044551         0.077834            0.572           0.567\n",
       "L4.SP_Value             0.012378         0.077888            0.159           0.874\n",
       "L4.PE_Ratio             0.248495         0.866717            0.287           0.774\n",
       "L5.Price                0.021312         0.088610            0.241           0.810\n",
       "L5.MORTGAGE30US        -3.606659        17.019326           -0.212           0.832\n",
       "L5.GDP                 -0.049648         0.088576           -0.561           0.575\n",
       "L5.UNRATE               5.752188        32.771152            0.176           0.861\n",
       "L5.UMCSENT              0.839358         1.087342            0.772           0.440\n",
       "L5.HOUST                0.024308         0.075658            0.321           0.748\n",
       "L5.SP_Value             0.058038         0.079517            0.730           0.465\n",
       "L5.PE_Ratio            -0.670730         0.859033           -0.781           0.435\n",
       "L6.Price               -0.287444         0.072097           -3.987           0.000\n",
       "L6.MORTGAGE30US        28.373379        16.563596            1.713           0.087\n",
       "L6.GDP                 -0.063721         0.088611           -0.719           0.472\n",
       "L6.UNRATE               9.443842        30.472406            0.310           0.757\n",
       "L6.UMCSENT              0.935041         1.009275            0.926           0.354\n",
       "L6.HOUST               -0.029522         0.066022           -0.447           0.655\n",
       "L6.SP_Value             0.084223         0.074842            1.125           0.260\n",
       "L6.PE_Ratio            -2.590977         0.822597           -3.150           0.002\n",
       "L7.Price                0.305683         0.074821            4.086           0.000\n",
       "L7.MORTGAGE30US         3.022750        15.104582            0.200           0.841\n",
       "L7.GDP                 -0.098399         0.072097           -1.365           0.172\n",
       "L7.UNRATE               1.125175        25.125247            0.045           0.964\n",
       "L7.UMCSENT              0.259424         0.816853            0.318           0.751\n",
       "L7.HOUST               -0.045895         0.049565           -0.926           0.354\n",
       "L7.SP_Value             0.059934         0.067082            0.893           0.372\n",
       "L7.PE_Ratio            -3.215406         0.819868           -3.922           0.000\n",
       "L8.Price                0.009702         0.067817            0.143           0.886\n",
       "L8.MORTGAGE30US        18.537462        13.320150            1.392           0.164\n",
       "L8.GDP                 -0.097439         0.050315           -1.937           0.053\n",
       "L8.UNRATE              -4.353343        17.101377           -0.255           0.799\n",
       "L8.UMCSENT              0.054602         0.576589            0.095           0.925\n",
       "L8.HOUST               -0.043497         0.027474           -1.583           0.113\n",
       "L8.SP_Value             0.079183         0.054499            1.453           0.146\n",
       "L8.PE_Ratio            -1.793673         0.825135           -2.174           0.030\n",
       "==================================================================================\n",
       "\n",
       "Results for equation MORTGAGE30US\n",
       "==================================================================================\n",
       "                     coefficient       std. error           t-stat            prob\n",
       "----------------------------------------------------------------------------------\n",
       "const                  -0.001488         0.009799           -0.152           0.879\n",
       "L1.Price                0.000127         0.000336            0.378           0.705\n",
       "L1.MORTGAGE30US        -0.561550         0.066758           -8.412           0.000\n",
       "L1.GDP                  0.000018         0.000248            0.073           0.942\n",
       "L1.UNRATE               0.094006         0.086106            1.092           0.275\n",
       "L1.UMCSENT             -0.000332         0.002950           -0.113           0.910\n",
       "L1.HOUST                0.000318         0.000143            2.222           0.026\n",
       "L1.SP_Value             0.000049         0.000234            0.208           0.835\n",
       "L1.PE_Ratio             0.001735         0.004180            0.415           0.678\n",
       "L2.Price               -0.000238         0.000361           -0.658           0.511\n",
       "L2.MORTGAGE30US        -0.611468         0.074928           -8.161           0.000\n",
       "L2.GDP                  0.000557         0.000353            1.579           0.114\n",
       "L2.UNRATE               0.252007         0.128321            1.964           0.050\n",
       "L2.UMCSENT             -0.006577         0.004134           -1.591           0.112\n",
       "L2.HOUST                0.000353         0.000259            1.360           0.174\n",
       "L2.SP_Value             0.000604         0.000282            2.144           0.032\n",
       "L2.PE_Ratio            -0.008208         0.004319           -1.901           0.057\n",
       "L3.Price               -0.000007         0.000349           -0.020           0.984\n",
       "L3.MORTGAGE30US        -0.402706         0.082454           -4.884           0.000\n",
       "L3.GDP                  0.000414         0.000442            0.937           0.349\n",
       "L3.UNRATE               0.308731         0.151762            2.034           0.042\n",
       "L3.UMCSENT             -0.005373         0.005007           -1.073           0.283\n",
       "L3.HOUST                0.000194         0.000344            0.565           0.572\n",
       "L3.SP_Value             0.001102         0.000329            3.346           0.001\n",
       "L3.PE_Ratio            -0.002847         0.004191           -0.680           0.497\n",
       "L4.Price                0.000270         0.000431            0.627           0.531\n",
       "L4.MORTGAGE30US        -0.314007         0.083718           -3.751           0.000\n",
       "L4.GDP                  0.000274         0.000438            0.624           0.533\n",
       "L4.UNRATE               0.351589         0.162080            2.169           0.030\n",
       "L4.UMCSENT             -0.000520         0.005299           -0.098           0.922\n",
       "L4.HOUST               -0.000023         0.000383           -0.059           0.953\n",
       "L4.SP_Value             0.000836         0.000384            2.179           0.029\n",
       "L4.PE_Ratio             0.003458         0.004270            0.810           0.418\n",
       "L5.Price               -0.000060         0.000437           -0.138           0.890\n",
       "L5.MORTGAGE30US        -0.284124         0.083848           -3.389           0.001\n",
       "L5.GDP                  0.000080         0.000436            0.182           0.855\n",
       "L5.UNRATE               0.361377         0.161452            2.238           0.025\n",
       "L5.UMCSENT              0.000787         0.005357            0.147           0.883\n",
       "L5.HOUST                0.000034         0.000373            0.090           0.928\n",
       "L5.SP_Value             0.000741         0.000392            1.893           0.058\n",
       "L5.PE_Ratio            -0.000341         0.004232           -0.080           0.936\n",
       "L6.Price                0.000125         0.000355            0.352           0.725\n",
       "L6.MORTGAGE30US        -0.277904         0.081603           -3.406           0.001\n",
       "L6.GDP                  0.000256         0.000437            0.586           0.558\n",
       "L6.UNRATE               0.273623         0.150127            1.823           0.068\n",
       "L6.UMCSENT             -0.001989         0.004972           -0.400           0.689\n",
       "L6.HOUST                0.000000         0.000325            0.000           1.000\n",
       "L6.SP_Value             0.000717         0.000369            1.945           0.052\n",
       "L6.PE_Ratio            -0.003486         0.004053           -0.860           0.390\n",
       "L7.Price               -0.000381         0.000369           -1.033           0.302\n",
       "L7.MORTGAGE30US        -0.144367         0.074415           -1.940           0.052\n",
       "L7.GDP                  0.000470         0.000355            1.322           0.186\n",
       "L7.UNRATE               0.006168         0.123783            0.050           0.960\n",
       "L7.UMCSENT             -0.002083         0.004024           -0.518           0.605\n",
       "L7.HOUST                0.000083         0.000244            0.341           0.733\n",
       "L7.SP_Value             0.000612         0.000330            1.853           0.064\n",
       "L7.PE_Ratio            -0.007231         0.004039           -1.790           0.073\n",
       "L8.Price                0.000595         0.000334            1.780           0.075\n",
       "L8.MORTGAGE30US        -0.056667         0.065624           -0.864           0.388\n",
       "L8.GDP                  0.000055         0.000248            0.221           0.825\n",
       "L8.UNRATE               0.112252         0.084252            1.332           0.183\n",
       "L8.UMCSENT             -0.004024         0.002841           -1.417           0.157\n",
       "L8.HOUST                0.000124         0.000135            0.920           0.358\n",
       "L8.SP_Value            -0.000257         0.000268           -0.958           0.338\n",
       "L8.PE_Ratio             0.000276         0.004065            0.068           0.946\n",
       "==================================================================================\n",
       "\n",
       "Results for equation GDP\n",
       "==================================================================================\n",
       "                     coefficient       std. error           t-stat            prob\n",
       "----------------------------------------------------------------------------------\n",
       "const                  -0.616961         2.767692           -0.223           0.824\n",
       "L1.Price                0.050264         0.094880            0.530           0.596\n",
       "L1.MORTGAGE30US        26.773118        18.855921            1.420           0.156\n",
       "L1.GDP                 -0.987267         0.070154          -14.073           0.000\n",
       "L1.UNRATE              32.191142        24.320919            1.324           0.186\n",
       "L1.UMCSENT             -0.363654         0.833197           -0.436           0.663\n",
       "L1.HOUST                0.020008         0.040452            0.495           0.621\n",
       "L1.SP_Value             0.279162         0.066151            4.220           0.000\n",
       "L1.PE_Ratio            -4.760416         1.180694           -4.032           0.000\n",
       "L2.Price                0.108557         0.102013            1.064           0.287\n",
       "L2.MORTGAGE30US         9.691038        21.163645            0.458           0.647\n",
       "L2.GDP                 -1.058872         0.099581          -10.633           0.000\n",
       "L2.UNRATE              30.928809        36.244506            0.853           0.393\n",
       "L2.UMCSENT             -0.140001         1.167537           -0.120           0.905\n",
       "L2.HOUST                0.048386         0.073194            0.661           0.509\n",
       "L2.SP_Value             0.239632         0.079519            3.014           0.003\n",
       "L2.PE_Ratio            -1.316435         1.219790           -1.079           0.280\n",
       "L3.Price               -0.002255         0.098525           -0.023           0.982\n",
       "L3.MORTGAGE30US        24.764197        23.289231            1.063           0.288\n",
       "L3.GDP                 -0.751862         0.124912           -6.019           0.000\n",
       "L3.UNRATE              24.255034        42.865503            0.566           0.572\n",
       "L3.UMCSENT              0.354868         1.414315            0.251           0.802\n",
       "L3.HOUST                0.068091         0.097061            0.702           0.483\n",
       "L3.SP_Value             0.108875         0.093058            1.170           0.242\n",
       "L3.PE_Ratio            -1.643198         1.183621           -1.388           0.165\n",
       "L4.Price                0.031699         0.121740            0.260           0.795\n",
       "L4.MORTGAGE30US        37.192312        23.646302            1.573           0.116\n",
       "L4.GDP                 -0.738781         0.123810           -5.967           0.000\n",
       "L4.UNRATE              13.085952        45.779832            0.286           0.775\n",
       "L4.UMCSENT              0.108317         1.496628            0.072           0.942\n",
       "L4.HOUST                0.082698         0.108310            0.764           0.445\n",
       "L4.SP_Value             0.174332         0.108385            1.608           0.108\n",
       "L4.PE_Ratio            -1.742986         1.206072           -1.445           0.148\n",
       "L5.Price                0.050450         0.123304            0.409           0.682\n",
       "L5.MORTGAGE30US        24.266913        23.683083            1.025           0.306\n",
       "L5.GDP                 -0.724155         0.123256           -5.875           0.000\n",
       "L5.UNRATE              -8.107454        45.602388           -0.178           0.859\n",
       "L5.UMCSENT              1.036069         1.513081            0.685           0.494\n",
       "L5.HOUST                0.075676         0.105281            0.719           0.472\n",
       "L5.SP_Value             0.118644         0.110652            1.072           0.284\n",
       "L5.PE_Ratio            -0.839231         1.195379           -0.702           0.483\n",
       "L6.Price                0.093241         0.100326            0.929           0.353\n",
       "L6.MORTGAGE30US        16.075965        23.048915            0.697           0.486\n",
       "L6.GDP                 -0.343991         0.123306           -2.790           0.005\n",
       "L6.UNRATE             -19.238563        42.403589           -0.454           0.650\n",
       "L6.UMCSENT              0.356228         1.404446            0.254           0.800\n",
       "L6.HOUST               -0.005707         0.091872           -0.062           0.950\n",
       "L6.SP_Value             0.015275         0.104146            0.147           0.883\n",
       "L6.PE_Ratio            -0.421762         1.144678           -0.368           0.713\n",
       "L7.Price               -0.104789         0.104116           -1.006           0.314\n",
       "L7.MORTGAGE30US       -12.881868        21.018638           -0.613           0.540\n",
       "L7.GDP                 -0.308750         0.100326           -3.077           0.002\n",
       "L7.UNRATE             -16.676628        34.962802           -0.477           0.633\n",
       "L7.UMCSENT              0.883003         1.136684            0.777           0.437\n",
       "L7.HOUST               -0.033571         0.068971           -0.487           0.626\n",
       "L7.SP_Value            -0.008665         0.093348           -0.093           0.926\n",
       "L7.PE_Ratio            -0.848527         1.140880           -0.744           0.457\n",
       "L8.Price                0.109698         0.094370            1.162           0.245\n",
       "L8.MORTGAGE30US        -6.237471        18.535530           -0.337           0.736\n",
       "L8.GDP                 -0.233679         0.070015           -3.338           0.001\n",
       "L8.UNRATE              -9.959826        23.797261           -0.419           0.676\n",
       "L8.UMCSENT              0.916734         0.802347            1.143           0.253\n",
       "L8.HOUST               -0.028219         0.038231           -0.738           0.460\n",
       "L8.SP_Value             0.039494         0.075838            0.521           0.603\n",
       "L8.PE_Ratio            -0.494581         1.148209           -0.431           0.667\n",
       "==================================================================================\n",
       "\n",
       "Results for equation UNRATE\n",
       "==================================================================================\n",
       "                     coefficient       std. error           t-stat            prob\n",
       "----------------------------------------------------------------------------------\n",
       "const                   0.001460         0.007911            0.185           0.854\n",
       "L1.Price                0.000237         0.000271            0.876           0.381\n",
       "L1.MORTGAGE30US        -0.082289         0.053894           -1.527           0.127\n",
       "L1.GDP                 -0.000087         0.000201           -0.432           0.666\n",
       "L1.UNRATE              -1.142981         0.069513          -16.443           0.000\n",
       "L1.UMCSENT             -0.002235         0.002381           -0.938           0.348\n",
       "L1.HOUST               -0.000119         0.000116           -1.025           0.305\n",
       "L1.SP_Value            -0.000338         0.000189           -1.788           0.074\n",
       "L1.PE_Ratio             0.000910         0.003375            0.270           0.787\n",
       "L2.Price               -0.000443         0.000292           -1.520           0.129\n",
       "L2.MORTGAGE30US        -0.102845         0.060489           -1.700           0.089\n",
       "L2.GDP                 -0.000182         0.000285           -0.639           0.523\n",
       "L2.UNRATE              -1.039553         0.103593          -10.035           0.000\n",
       "L2.UMCSENT             -0.006042         0.003337           -1.811           0.070\n",
       "L2.HOUST               -0.000209         0.000209           -1.000           0.317\n",
       "L2.SP_Value            -0.000377         0.000227           -1.658           0.097\n",
       "L2.PE_Ratio             0.003735         0.003486            1.071           0.284\n",
       "L3.Price               -0.000183         0.000282           -0.649           0.516\n",
       "L3.MORTGAGE30US        -0.097864         0.066565           -1.470           0.142\n",
       "L3.GDP                 -0.000130         0.000357           -0.365           0.715\n",
       "L3.UNRATE              -0.856378         0.122517           -6.990           0.000\n",
       "L3.UMCSENT             -0.004246         0.004042           -1.050           0.294\n",
       "L3.HOUST               -0.000284         0.000277           -1.024           0.306\n",
       "L3.SP_Value            -0.000401         0.000266           -1.507           0.132\n",
       "L3.PE_Ratio             0.008794         0.003383            2.599           0.009\n",
       "L4.Price               -0.000188         0.000348           -0.542           0.588\n",
       "L4.MORTGAGE30US        -0.116126         0.067585           -1.718           0.086\n",
       "L4.GDP                 -0.000233         0.000354           -0.657           0.511\n",
       "L4.UNRATE              -0.733511         0.130847           -5.606           0.000\n",
       "L4.UMCSENT             -0.003327         0.004278           -0.778           0.437\n",
       "L4.HOUST               -0.000396         0.000310           -1.278           0.201\n",
       "L4.SP_Value            -0.000367         0.000310           -1.185           0.236\n",
       "L4.PE_Ratio             0.011010         0.003447            3.194           0.001\n",
       "L5.Price               -0.000357         0.000352           -1.012           0.312\n",
       "L5.MORTGAGE30US        -0.101836         0.067690           -1.504           0.132\n",
       "L5.GDP                 -0.000590         0.000352           -1.674           0.094\n",
       "L5.UNRATE              -0.448208         0.130340           -3.439           0.001\n",
       "L5.UMCSENT              0.000522         0.004325            0.121           0.904\n",
       "L5.HOUST               -0.000482         0.000301           -1.603           0.109\n",
       "L5.SP_Value            -0.000107         0.000316           -0.338           0.736\n",
       "L5.PE_Ratio             0.004230         0.003417            1.238           0.216\n",
       "L6.Price               -0.000448         0.000287           -1.564           0.118\n",
       "L6.MORTGAGE30US        -0.056766         0.065878           -0.862           0.389\n",
       "L6.GDP                 -0.000886         0.000352           -2.514           0.012\n",
       "L6.UNRATE              -0.162185         0.121197           -1.338           0.181\n",
       "L6.UMCSENT             -0.001033         0.004014           -0.257           0.797\n",
       "L6.HOUST               -0.000346         0.000263           -1.316           0.188\n",
       "L6.SP_Value             0.000235         0.000298            0.789           0.430\n",
       "L6.PE_Ratio            -0.002607         0.003272           -0.797           0.425\n",
       "L7.Price                0.000380         0.000298            1.278           0.201\n",
       "L7.MORTGAGE30US        -0.016482         0.060075           -0.274           0.784\n",
       "L7.GDP                 -0.000695         0.000287           -2.424           0.015\n",
       "L7.UNRATE              -0.007622         0.099930           -0.076           0.939\n",
       "L7.UMCSENT             -0.000024         0.003249           -0.007           0.994\n",
       "L7.HOUST               -0.000022         0.000197           -0.110           0.912\n",
       "L7.SP_Value             0.000241         0.000267            0.903           0.367\n",
       "L7.PE_Ratio            -0.003601         0.003261           -1.104           0.270\n",
       "L8.Price               -0.000079         0.000270           -0.292           0.770\n",
       "L8.MORTGAGE30US         0.040933         0.052978            0.773           0.440\n",
       "L8.GDP                 -0.000224         0.000200           -1.118           0.264\n",
       "L8.UNRATE               0.036841         0.068017            0.542           0.588\n",
       "L8.UMCSENT              0.003027         0.002293            1.320           0.187\n",
       "L8.HOUST                0.000017         0.000109            0.155           0.877\n",
       "L8.SP_Value            -0.000100         0.000217           -0.460           0.646\n",
       "L8.PE_Ratio             0.003680         0.003282            1.121           0.262\n",
       "==================================================================================\n",
       "\n",
       "Results for equation UMCSENT\n",
       "==================================================================================\n",
       "                     coefficient       std. error           t-stat            prob\n",
       "----------------------------------------------------------------------------------\n",
       "const                  -0.021990         0.229517           -0.096           0.924\n",
       "L1.Price                0.006094         0.007868            0.774           0.439\n",
       "L1.MORTGAGE30US         2.292433         1.563668            1.466           0.143\n",
       "L1.GDP                 -0.001030         0.005818           -0.177           0.860\n",
       "L1.UNRATE               0.756476         2.016865            0.375           0.708\n",
       "L1.UMCSENT             -1.057485         0.069095          -15.305           0.000\n",
       "L1.HOUST                0.001486         0.003355            0.443           0.658\n",
       "L1.SP_Value             0.019311         0.005486            3.520           0.000\n",
       "L1.PE_Ratio             0.157976         0.097912            1.613           0.107\n",
       "L2.Price               -0.007298         0.008460           -0.863           0.388\n",
       "L2.MORTGAGE30US         2.578623         1.755041            1.469           0.142\n",
       "L2.GDP                 -0.004293         0.008258           -0.520           0.603\n",
       "L2.UNRATE               3.299559         3.005655            1.098           0.272\n",
       "L2.UMCSENT             -1.113201         0.096821          -11.498           0.000\n",
       "L2.HOUST                0.001888         0.006070            0.311           0.756\n",
       "L2.SP_Value             0.032033         0.006594            4.858           0.000\n",
       "L2.PE_Ratio             0.291826         0.101154            2.885           0.004\n",
       "L3.Price               -0.008971         0.008170           -1.098           0.272\n",
       "L3.MORTGAGE30US         3.438339         1.931310            1.780           0.075\n",
       "L3.GDP                 -0.005360         0.010359           -0.517           0.605\n",
       "L3.UNRATE               6.075914         3.554715            1.709           0.087\n",
       "L3.UMCSENT             -1.047327         0.117285           -8.930           0.000\n",
       "L3.HOUST               -0.000482         0.008049           -0.060           0.952\n",
       "L3.SP_Value             0.038478         0.007717            4.986           0.000\n",
       "L3.PE_Ratio             0.128270         0.098154            1.307           0.191\n",
       "L4.Price                0.011520         0.010096            1.141           0.254\n",
       "L4.MORTGAGE30US         2.732232         1.960921            1.393           0.164\n",
       "L4.GDP                 -0.004126         0.010267           -0.402           0.688\n",
       "L4.UNRATE               3.755912         3.796392            0.989           0.322\n",
       "L4.UMCSENT             -0.932774         0.124111           -7.516           0.000\n",
       "L4.HOUST                0.001705         0.008982            0.190           0.849\n",
       "L4.SP_Value             0.038817         0.008988            4.319           0.000\n",
       "L4.PE_Ratio            -0.059795         0.100016           -0.598           0.550\n",
       "L5.Price               -0.001332         0.010225           -0.130           0.896\n",
       "L5.MORTGAGE30US         3.362527         1.963971            1.712           0.087\n",
       "L5.GDP                  0.004622         0.010221            0.452           0.651\n",
       "L5.UNRATE               4.861186         3.781677            1.285           0.199\n",
       "L5.UMCSENT             -0.826871         0.125476           -6.590           0.000\n",
       "L5.HOUST                0.007294         0.008731            0.835           0.403\n",
       "L5.SP_Value             0.033001         0.009176            3.596           0.000\n",
       "L5.PE_Ratio            -0.114645         0.099129           -1.157           0.247\n",
       "L6.Price               -0.007880         0.008320           -0.947           0.344\n",
       "L6.MORTGAGE30US         3.313939         1.911382            1.734           0.083\n",
       "L6.GDP                  0.004831         0.010225            0.472           0.637\n",
       "L6.UNRATE               4.940183         3.516410            1.405           0.160\n",
       "L6.UMCSENT             -0.546085         0.116467           -4.689           0.000\n",
       "L6.HOUST                0.011099         0.007619            1.457           0.145\n",
       "L6.SP_Value             0.022947         0.008637            2.657           0.008\n",
       "L6.PE_Ratio             0.023077         0.094925            0.243           0.808\n",
       "L7.Price                0.021734         0.008634            2.517           0.012\n",
       "L7.MORTGAGE30US         2.430671         1.743016            1.395           0.163\n",
       "L7.GDP                  0.004116         0.008320            0.495           0.621\n",
       "L7.UNRATE               4.566203         2.899367            1.575           0.115\n",
       "L7.UMCSENT             -0.329563         0.094262           -3.496           0.000\n",
       "L7.HOUST                0.010677         0.005720            1.867           0.062\n",
       "L7.SP_Value             0.007601         0.007741            0.982           0.326\n",
       "L7.PE_Ratio             0.150459         0.094610            1.590           0.112\n",
       "L8.Price               -0.012749         0.007826           -1.629           0.103\n",
       "L8.MORTGAGE30US         1.483011         1.537099            0.965           0.335\n",
       "L8.GDP                 -0.002947         0.005806           -0.508           0.612\n",
       "L8.UNRATE               1.259608         1.973440            0.638           0.523\n",
       "L8.UMCSENT             -0.147592         0.066536           -2.218           0.027\n",
       "L8.HOUST                0.005957         0.003170            1.879           0.060\n",
       "L8.SP_Value             0.006707         0.006289            1.066           0.286\n",
       "L8.PE_Ratio             0.090623         0.095218            0.952           0.341\n",
       "==================================================================================\n",
       "\n",
       "Results for equation HOUST\n",
       "==================================================================================\n",
       "                     coefficient       std. error           t-stat            prob\n",
       "----------------------------------------------------------------------------------\n",
       "const                   0.969712         4.909849            0.198           0.843\n",
       "L1.Price               -0.009995         0.168316           -0.059           0.953\n",
       "L1.MORTGAGE30US        -6.066125        33.450153           -0.181           0.856\n",
       "L1.GDP                  0.219447         0.124453            1.763           0.078\n",
       "L1.UNRATE              10.916415        43.144986            0.253           0.800\n",
       "L1.UMCSENT              0.202583         1.478080            0.137           0.891\n",
       "L1.HOUST               -1.615084         0.071761          -22.507           0.000\n",
       "L1.SP_Value             0.015707         0.117352            0.134           0.894\n",
       "L1.PE_Ratio            -1.127627         2.094536           -0.538           0.590\n",
       "L2.Price                0.108695         0.180970            0.601           0.548\n",
       "L2.MORTGAGE30US       -14.371298        37.544026           -0.383           0.702\n",
       "L2.GDP                  0.371788         0.176655            2.105           0.035\n",
       "L2.UNRATE              34.952365        64.297272            0.544           0.587\n",
       "L2.UMCSENT             -0.280110         2.071195           -0.135           0.892\n",
       "L2.HOUST               -1.807910         0.129845          -13.924           0.000\n",
       "L2.SP_Value             0.059063         0.141066            0.419           0.675\n",
       "L2.PE_Ratio            -1.257478         2.163891           -0.581           0.561\n",
       "L3.Price                0.132608         0.174782            0.759           0.448\n",
       "L3.MORTGAGE30US        11.274307        41.314786            0.273           0.785\n",
       "L3.GDP                  0.439976         0.221592            1.986           0.047\n",
       "L3.UNRATE              35.732716        76.042833            0.470           0.638\n",
       "L3.UMCSENT             -0.703086         2.508975           -0.280           0.779\n",
       "L3.HOUST               -1.650194         0.172184           -9.584           0.000\n",
       "L3.SP_Value             0.241222         0.165084            1.461           0.144\n",
       "L3.PE_Ratio            -1.380274         2.099728           -0.657           0.511\n",
       "L4.Price               -0.321580         0.215966           -1.489           0.136\n",
       "L4.MORTGAGE30US       -35.800507        41.948226           -0.853           0.393\n",
       "L4.GDP                  0.346423         0.219638            1.577           0.115\n",
       "L4.UNRATE              87.274331        81.212814            1.075           0.283\n",
       "L4.UMCSENT             -4.018365         2.654998           -1.514           0.130\n",
       "L4.HOUST               -1.217190         0.192140           -6.335           0.000\n",
       "L4.SP_Value             0.059414         0.192273            0.309           0.757\n",
       "L4.PE_Ratio            -0.848514         2.139556           -0.397           0.692\n",
       "L5.Price                0.008790         0.218740            0.040           0.968\n",
       "L5.MORTGAGE30US       -83.205130        42.013475           -1.980           0.048\n",
       "L5.GDP                  0.370208         0.218655            1.693           0.090\n",
       "L5.UNRATE             108.868727        80.898031            1.346           0.178\n",
       "L5.UMCSENT             -3.647003         2.684185           -1.359           0.174\n",
       "L5.HOUST               -0.822326         0.186767           -4.403           0.000\n",
       "L5.SP_Value             0.059003         0.196295            0.301           0.764\n",
       "L5.PE_Ratio            -1.169322         2.120586           -0.551           0.581\n",
       "L6.Price                0.258941         0.177978            1.455           0.146\n",
       "L6.MORTGAGE30US      -148.320324        40.888470           -3.627           0.000\n",
       "L6.GDP                  0.350023         0.218742            1.600           0.110\n",
       "L6.UNRATE             113.110737        75.223404            1.504           0.133\n",
       "L6.UMCSENT             -1.920825         2.491469           -0.771           0.441\n",
       "L6.HOUST               -0.502208         0.162979           -3.081           0.002\n",
       "L6.SP_Value            -0.150690         0.184754           -0.816           0.415\n",
       "L6.PE_Ratio            -0.548923         2.030643           -0.270           0.787\n",
       "L7.Price               -0.163830         0.184701           -0.887           0.375\n",
       "L7.MORTGAGE30US      -153.953148        37.286785           -4.129           0.000\n",
       "L7.GDP                  0.199600         0.177978            1.121           0.262\n",
       "L7.UNRATE             178.401952        62.023546            2.876           0.004\n",
       "L7.UMCSENT              0.453518         2.016463            0.225           0.822\n",
       "L7.HOUST               -0.251337         0.122354           -2.054           0.040\n",
       "L7.SP_Value            -0.194847         0.165598           -1.177           0.239\n",
       "L7.PE_Ratio            -1.825387         2.023906           -0.902           0.367\n",
       "L8.Price               -0.101439         0.167410           -0.606           0.545\n",
       "L8.MORTGAGE30US       -96.969663        32.881783           -2.949           0.003\n",
       "L8.GDP                  0.019007         0.124206            0.153           0.878\n",
       "L8.UNRATE              64.739322        42.216024            1.534           0.125\n",
       "L8.UMCSENT              0.438849         1.423353            0.308           0.758\n",
       "L8.HOUST               -0.092281         0.067821           -1.361           0.174\n",
       "L8.SP_Value            -0.061030         0.134535           -0.454           0.650\n",
       "L8.PE_Ratio            -0.575139         2.036907           -0.282           0.778\n",
       "==================================================================================\n",
       "\n",
       "Results for equation SP_Value\n",
       "==================================================================================\n",
       "                     coefficient       std. error           t-stat            prob\n",
       "----------------------------------------------------------------------------------\n",
       "const                   0.703467         3.014218            0.233           0.815\n",
       "L1.Price               -0.002771         0.103331           -0.027           0.979\n",
       "L1.MORTGAGE30US         8.516478        20.535471            0.415           0.678\n",
       "L1.GDP                  0.110452         0.076403            1.446           0.148\n",
       "L1.UNRATE             -38.366181        26.487251           -1.448           0.147\n",
       "L1.UMCSENT              0.538090         0.907412            0.593           0.553\n",
       "L1.HOUST               -0.009534         0.044055           -0.216           0.829\n",
       "L1.SP_Value            -0.707114         0.072044           -9.815           0.000\n",
       "L1.PE_Ratio            -2.086447         1.285862           -1.623           0.105\n",
       "L2.Price               -0.111976         0.111100           -1.008           0.314\n",
       "L2.MORTGAGE30US        -6.012644        23.048751           -0.261           0.794\n",
       "L2.GDP                  0.143308         0.108451            1.321           0.186\n",
       "L2.UNRATE             -29.460227        39.472906           -0.746           0.455\n",
       "L2.UMCSENT              0.255609         1.271533            0.201           0.841\n",
       "L2.HOUST               -0.029857         0.079714           -0.375           0.708\n",
       "L2.SP_Value            -0.713641         0.086602           -8.240           0.000\n",
       "L2.PE_Ratio            -1.359602         1.328440           -1.023           0.306\n",
       "L3.Price                0.172291         0.107301            1.606           0.108\n",
       "L3.MORTGAGE30US       -16.133261        25.363668           -0.636           0.525\n",
       "L3.GDP                  0.171396         0.136038            1.260           0.208\n",
       "L3.UNRATE             -19.898240        46.683653           -0.426           0.670\n",
       "L3.UMCSENT              0.587567         1.540291            0.381           0.703\n",
       "L3.HOUST               -0.010337         0.105706           -0.098           0.922\n",
       "L3.SP_Value            -0.749636         0.101347           -7.397           0.000\n",
       "L3.PE_Ratio            -0.382902         1.289049           -0.297           0.766\n",
       "L4.Price               -0.153454         0.132584           -1.157           0.247\n",
       "L4.MORTGAGE30US       -37.461139        25.752545           -1.455           0.146\n",
       "L4.GDP                  0.082741         0.134839            0.614           0.539\n",
       "L4.UNRATE              22.499936        49.857570            0.451           0.652\n",
       "L4.UMCSENT              1.642749         1.629937            1.008           0.314\n",
       "L4.HOUST                0.022928         0.117957            0.194           0.846\n",
       "L4.SP_Value            -0.709956         0.118039           -6.015           0.000\n",
       "L4.PE_Ratio             1.072687         1.313500            0.817           0.414\n",
       "L5.Price               -0.025170         0.134287           -0.187           0.851\n",
       "L5.MORTGAGE30US        -3.781820        25.792602           -0.147           0.883\n",
       "L5.GDP                  0.004309         0.134235            0.032           0.974\n",
       "L5.UNRATE              58.016057        49.664321            1.168           0.243\n",
       "L5.UMCSENT              0.887486         1.647855            0.539           0.590\n",
       "L5.HOUST                0.105425         0.114658            0.919           0.358\n",
       "L5.SP_Value            -0.464129         0.120508           -3.851           0.000\n",
       "L5.PE_Ratio            -0.813908         1.301855           -0.625           0.532\n",
       "L6.Price                0.138727         0.109263            1.270           0.204\n",
       "L6.MORTGAGE30US       -60.847927        25.101947           -2.424           0.015\n",
       "L6.GDP                  0.004808         0.134289            0.036           0.971\n",
       "L6.UNRATE              42.694385        46.180596            0.925           0.355\n",
       "L6.UMCSENT              0.163850         1.529544            0.107           0.915\n",
       "L6.HOUST                0.115750         0.100055            1.157           0.247\n",
       "L6.SP_Value            -0.512680         0.113423           -4.520           0.000\n",
       "L6.PE_Ratio            -1.204207         1.246637           -0.966           0.334\n",
       "L7.Price               -0.121307         0.113390           -1.070           0.285\n",
       "L7.MORTGAGE30US       -28.813947        22.890827           -1.259           0.208\n",
       "L7.GDP                 -0.012357         0.109263           -0.113           0.910\n",
       "L7.UNRATE              21.024497        38.077036            0.552           0.581\n",
       "L7.UMCSENT             -0.497860         1.237932           -0.402           0.688\n",
       "L7.HOUST                0.057821         0.075114            0.770           0.441\n",
       "L7.SP_Value            -0.446723         0.101663           -4.394           0.000\n",
       "L7.PE_Ratio             0.904089         1.242502            0.728           0.467\n",
       "L8.Price                0.069198         0.102775            0.673           0.501\n",
       "L8.MORTGAGE30US       -23.993392        20.186541           -1.189           0.235\n",
       "L8.GDP                  0.061435         0.076251            0.806           0.420\n",
       "L8.UNRATE              15.411197        25.916949            0.595           0.552\n",
       "L8.UMCSENT             -0.444637         0.873814           -0.509           0.611\n",
       "L8.HOUST               -0.019439         0.041636           -0.467           0.641\n",
       "L8.SP_Value            -0.143445         0.082593           -1.737           0.082\n",
       "L8.PE_Ratio             0.541958         1.250483            0.433           0.665\n",
       "==================================================================================\n",
       "\n",
       "Results for equation PE_Ratio\n",
       "==================================================================================\n",
       "                     coefficient       std. error           t-stat            prob\n",
       "----------------------------------------------------------------------------------\n",
       "const                   0.020381         0.159606            0.128           0.898\n",
       "L1.Price               -0.000951         0.005471           -0.174           0.862\n",
       "L1.MORTGAGE30US        -1.302606         1.087376           -1.198           0.231\n",
       "L1.GDP                 -0.004818         0.004046           -1.191           0.234\n",
       "L1.UNRATE              -1.621717         1.402530           -1.156           0.248\n",
       "L1.UMCSENT             -0.032755         0.048048           -0.682           0.495\n",
       "L1.HOUST               -0.005119         0.002333           -2.194           0.028\n",
       "L1.SP_Value            -0.011687         0.003815           -3.064           0.002\n",
       "L1.PE_Ratio            -0.441050         0.068088           -6.478           0.000\n",
       "L2.Price                0.000025         0.005883            0.004           0.997\n",
       "L2.MORTGAGE30US        -1.911261         1.220457           -1.566           0.117\n",
       "L2.GDP                 -0.003885         0.005743           -0.677           0.499\n",
       "L2.UNRATE               0.769901         2.090135            0.368           0.713\n",
       "L2.UMCSENT              0.082759         0.067329            1.229           0.219\n",
       "L2.HOUST               -0.008799         0.004221           -2.085           0.037\n",
       "L2.SP_Value            -0.023451         0.004586           -5.114           0.000\n",
       "L2.PE_Ratio            -0.236498         0.070342           -3.362           0.001\n",
       "L3.Price               -0.001966         0.005682           -0.346           0.729\n",
       "L3.MORTGAGE30US        -3.507418         1.343035           -2.612           0.009\n",
       "L3.GDP                 -0.004498         0.007203           -0.624           0.532\n",
       "L3.UNRATE               1.795955         2.471952            0.727           0.468\n",
       "L3.UMCSENT              0.101785         0.081560            1.248           0.212\n",
       "L3.HOUST               -0.008381         0.005597           -1.497           0.134\n",
       "L3.SP_Value            -0.026106         0.005366           -4.865           0.000\n",
       "L3.PE_Ratio             0.216726         0.068257            3.175           0.001\n",
       "L4.Price               -0.002597         0.007020           -0.370           0.711\n",
       "L4.MORTGAGE30US        -2.025024         1.363626           -1.485           0.138\n",
       "L4.GDP                 -0.008193         0.007140           -1.148           0.251\n",
       "L4.UNRATE               2.166730         2.640014            0.821           0.412\n",
       "L4.UMCSENT              0.105169         0.086307            1.219           0.223\n",
       "L4.HOUST               -0.006218         0.006246           -0.996           0.319\n",
       "L4.SP_Value            -0.020763         0.006250           -3.322           0.001\n",
       "L4.PE_Ratio            -0.079969         0.069551           -1.150           0.250\n",
       "L5.Price                0.001462         0.007111            0.206           0.837\n",
       "L5.MORTGAGE30US        -1.949478         1.365747           -1.427           0.153\n",
       "L5.GDP                 -0.008907         0.007108           -1.253           0.210\n",
       "L5.UNRATE               2.370530         2.629782            0.901           0.367\n",
       "L5.UMCSENT              0.039880         0.087256            0.457           0.648\n",
       "L5.HOUST               -0.000399         0.006071           -0.066           0.948\n",
       "L5.SP_Value            -0.020315         0.006381           -3.184           0.001\n",
       "L5.PE_Ratio            -0.115646         0.068935           -1.678           0.093\n",
       "L6.Price                0.007552         0.005786            1.305           0.192\n",
       "L6.MORTGAGE30US         0.658396         1.329176            0.495           0.620\n",
       "L6.GDP                 -0.006449         0.007111           -0.907           0.364\n",
       "L6.UNRATE               3.453703         2.445314            1.412           0.158\n",
       "L6.UMCSENT              0.052400         0.080991            0.647           0.518\n",
       "L6.HOUST                0.002993         0.005298            0.565           0.572\n",
       "L6.SP_Value            -0.019370         0.006006           -3.225           0.001\n",
       "L6.PE_Ratio            -0.245464         0.066011           -3.719           0.000\n",
       "L7.Price               -0.004022         0.006004           -0.670           0.503\n",
       "L7.MORTGAGE30US        -1.859816         1.212095           -1.534           0.125\n",
       "L7.GDP                 -0.000134         0.005786           -0.023           0.982\n",
       "L7.UNRATE               1.201796         2.016222            0.596           0.551\n",
       "L7.UMCSENT              0.019109         0.065550            0.292           0.771\n",
       "L7.HOUST                0.001220         0.003977            0.307           0.759\n",
       "L7.SP_Value            -0.007350         0.005383           -1.365           0.172\n",
       "L7.PE_Ratio            -0.369084         0.065792           -5.610           0.000\n",
       "L8.Price               -0.000334         0.005442           -0.061           0.951\n",
       "L8.MORTGAGE30US        -2.559676         1.068900           -2.395           0.017\n",
       "L8.GDP                  0.003587         0.004038            0.888           0.374\n",
       "L8.UNRATE               0.328767         1.372332            0.240           0.811\n",
       "L8.UMCSENT              0.065693         0.046269            1.420           0.156\n",
       "L8.HOUST                0.000342         0.002205            0.155           0.877\n",
       "L8.SP_Value            -0.004968         0.004373           -1.136           0.256\n",
       "L8.PE_Ratio            -0.218465         0.066214           -3.299           0.001\n",
       "==================================================================================\n",
       "\n",
       "Correlation matrix of residuals\n",
       "                   Price  MORTGAGE30US       GDP    UNRATE   UMCSENT     HOUST  SP_Value  PE_Ratio\n",
       "Price           1.000000     -0.087952 -0.049525  0.051317  0.004991  0.028021  0.147155 -0.081884\n",
       "MORTGAGE30US   -0.087952      1.000000 -0.034296 -0.029931  0.033202 -0.008519 -0.018517  0.034979\n",
       "GDP            -0.049525     -0.034296  1.000000 -0.150854  0.097768  0.271694  0.108508  0.001266\n",
       "UNRATE          0.051317     -0.029931 -0.150854  1.000000 -0.118525 -0.056120  0.137234  0.014575\n",
       "UMCSENT         0.004991      0.033202  0.097768 -0.118525  1.000000 -0.213924 -0.042118 -0.037441\n",
       "HOUST           0.028021     -0.008519  0.271694 -0.056120 -0.213924  1.000000  0.002385 -0.085607\n",
       "SP_Value        0.147155     -0.018517  0.108508  0.137234 -0.042118  0.002385  1.000000  0.244191\n",
       "PE_Ratio       -0.081884      0.034979  0.001266  0.014575 -0.037441 -0.085607  0.244191  1.000000\n",
       "\n"
      ]
     },
     "execution_count": 32,
     "metadata": {},
     "output_type": "execute_result"
    }
   ],
   "source": [
    "results = model.fit(maxlags=8, ic='aic')\n",
    "results.summary()"
   ]
  },
  {
   "cell_type": "code",
   "execution_count": 33,
   "metadata": {},
   "outputs": [],
   "source": [
    "# Run Forecasting  on Train/Test Dataset"
   ]
  },
  {
   "cell_type": "code",
   "execution_count": 34,
   "metadata": {},
   "outputs": [],
   "source": [
    "# forecasting\n",
    "pred = results.forecast(results.y, steps=nobs)\n",
    "df_forecast = pd.DataFrame(pred, index=df.index[-nobs:], columns=df.columns + '_1d')\n",
    "# inverting transformation\n",
    "def invert_transformation(df_train, df_forecast, second_diff=True):\n",
    "    \"\"\"Revert back the differencing to get the forecast to original scale.\"\"\"\n",
    "    df_fc = df_forecast.copy()\n",
    "    columns = df_train.columns\n",
    "    for col in columns:        \n",
    "        # Roll back 2nd Diff\n",
    "        if second_diff:\n",
    "            df_fc[str(col)+'_1d'] = (df_train[col].iloc[-1]-df_train[col].iloc[-2]) + df_fc[str(col)+'_1d'].cumsum()\n",
    "        # Roll back 1st Diff\n",
    "        df_fc[str(col)+'_forecast'] = df_train[col].iloc[-1] + df_fc[str(col)+'_1d'].cumsum()\n",
    "    return df_fc\n",
    "# show inverted results in a dataframe\n",
    "df_results = invert_transformation(df_train, df_forecast, second_diff=True)        \n"
   ]
  },
  {
   "cell_type": "code",
   "execution_count": 35,
   "metadata": {},
   "outputs": [],
   "source": [
    "results = pd.concat([df_test['Price'],df_results['Price_forecast']], axis = 1)"
   ]
  },
  {
   "cell_type": "code",
   "execution_count": 36,
   "metadata": {},
   "outputs": [
    {
     "name": "stdout",
     "output_type": "stream",
     "text": [
      "0.7220854177312909\n",
      "1153.704414728789\n"
     ]
    }
   ],
   "source": [
    "from sklearn.metrics import r2_score, mean_squared_error\n",
    "import numpy as np\n",
    "\n",
    "print(r2_score(results.Price, results.Price_forecast))\n",
    "print(np.sqrt(mean_squared_error(results.Price, results.Price_forecast)))\n"
   ]
  },
  {
   "cell_type": "code",
   "execution_count": 37,
   "metadata": {},
   "outputs": [
    {
     "data": {
      "text/plain": [
       "<matplotlib.axes._subplots.AxesSubplot at 0x2098520fca0>"
      ]
     },
     "execution_count": 37,
     "metadata": {},
     "output_type": "execute_result"
    },
    {
     "data": {
      "image/png": "[encoded data removed]",
      "text/plain": [
       "<Figure size 432x288 with 1 Axes>"
      ]
     },
     "metadata": {
      "needs_background": "light"
     },
     "output_type": "display_data"
    }
   ],
   "source": [
    "results.plot()"
   ]
  },
  {
   "cell_type": "markdown",
   "metadata": {},
   "source": [
    "# Results were good on the original train/test test but that only evaluates the prediction performance on the last 12 months of the dataset which was relatively straightforward and linear\n",
    "\n"
   ]
  },
  {
   "cell_type": "markdown",
   "metadata": {},
   "source": [
    "#### the next step will assess the performance over multiple time periods including the '08' housing market dip "
   ]
  },
  {
   "cell_type": "code",
   "execution_count": 38,
   "metadata": {},
   "outputs": [],
   "source": [
    "df = avg_c2.merge(dfMacro, on = 'DATE', how = 'left')\n",
    "df = df.drop(columns = ['SP500 Growth', 'GDP Growh', 'DATE'])"
   ]
  },
  {
   "cell_type": "code",
   "execution_count": 39,
   "metadata": {},
   "outputs": [],
   "source": [
    "lst_accuracy = []\n",
    "\n",
    "#Run a series of tests using a 12 month prediction time frame \n",
    "\n",
    "# the loop will start with training on months 0 through 130 predicting + 12 months\n",
    "# then train on 0 through 142, predict + 12 months\n",
    "# train on months 0 through 154, predict + months out\n",
    "# and so on\n",
    "\n",
    "for n in range(0,10):\n",
    "    \n",
    "    dfx = df[:130 + (n*12)]\n",
    "    nobs = 12\n",
    "    df_train, df_test = dfx[0:-nobs], dfx[-nobs:]\n",
    "    df_differenced = df_train.diff().diff().dropna()\n",
    "    model = VAR(df_differenced)\n",
    "    results = model.fit(maxlags=8, ic='aic')\n",
    "    pred = results.forecast(results.y, steps=nobs)\n",
    "    df_forecast = pd.DataFrame(pred, index=dfx.index[-nobs:], columns=dfx.columns + '_1d')\n",
    "    df_results = invert_transformation(df_train, df_forecast, second_diff=True)  \n",
    "    accuracy = pd.concat([df_test['Price'],df_results['Price_forecast']], axis = 1)\n",
    "    \n",
    "    lst_accuracy.append(accuracy)\n",
    "    \n",
    "    "
   ]
  },
  {
   "cell_type": "code",
   "execution_count": 40,
   "metadata": {},
   "outputs": [
    {
     "name": "stdout",
     "output_type": "stream",
     "text": [
      "0.920373222371028\n",
      "1309.702075224045\n"
     ]
    },
    {
     "data": {
      "text/plain": [
       "<matplotlib.axes._subplots.AxesSubplot at 0x209851cc880>"
      ]
     },
     "execution_count": 40,
     "metadata": {},
     "output_type": "execute_result"
    },
    {
     "data": {
      "image/png": "[encoded data removed]",
      "text/plain": [
       "<Figure size 432x288 with 1 Axes>"
      ]
     },
     "metadata": {
      "needs_background": "light"
     },
     "output_type": "display_data"
    }
   ],
   "source": [
    "fullbacktest =pd.concat(lst_accuracy)\n",
    "print(r2_score(fullbacktest.Price, fullbacktest.Price_forecast))\n",
    "print(np.sqrt(mean_squared_error(fullbacktest.Price, fullbacktest.Price_forecast)))\n",
    "\n",
    "pd.concat([df[['Price']][:128],fullbacktest]).plot()"
   ]
  },
  {
   "cell_type": "markdown",
   "metadata": {},
   "source": [
    "### Time to Run model through each city/state combo to get predictions by city/state"
   ]
  },
  {
   "cell_type": "markdown",
   "metadata": {},
   "source": [
    "Write the necessary functions"
   ]
  },
  {
   "cell_type": "code",
   "execution_count": 41,
   "metadata": {},
   "outputs": [],
   "source": [
    "# forecasting\n",
    "\n",
    "def var(df, nobs, rt = 'last'):\n",
    "    \n",
    "    df_train = df.drop(columns = 'CityState').sort_values(by = 'DATE')\n",
    "    df_train.drop(columns = 'DATE', inplace = True)\n",
    "    df_differenced = df_train.diff().diff().dropna()\n",
    "    model = VAR(df_differenced)\n",
    "    results = model.fit(maxlags=8, ic='aic')\n",
    "    pred = results.forecast(results.y, steps=nobs)\n",
    "    df_forecast = pd.DataFrame(pred, index=df_train.index[-nobs:], columns=df_train.columns + '_1d')\n",
    "    df_results = invert_transformation(df_train, df_forecast, second_diff=True)\n",
    "    \n",
    "    \n",
    "    \n",
    "    \n",
    "    if rt == 'last':\n",
    "        return df_results.Price_forecast.values[-1]\n",
    "    else:\n",
    "        return df_results.Price_forecast.values"
   ]
  },
  {
   "cell_type": "code",
   "execution_count": 42,
   "metadata": {},
   "outputs": [],
   "source": [
    "import numpy as np\n",
    "import matplotlib.pyplot as plt\n",
    "import pandas as pd\n",
    "#Function to calculate principle and interest on mortgage\n",
    "def mortgage(row, Down,Type,Rate,rt):\n",
    "    \n",
    "    Price = row['Price']\n",
    "    Sales_Price = float(Price)\n",
    "    Down_Payment =  float(Down)\n",
    "    Loan_Amount = Sales_Price - Down_Payment\n",
    "    Mortgage_Type =  float(Type)\n",
    "    Loan_Term = int(12*Mortgage_Type)\n",
    "    Interest_Rate =  float(Rate)\n",
    "    R = 1 +(Interest_Rate)/(12*100)\n",
    "    X = Loan_Amount*(R**Loan_Term)*(1-R)/(1-R**Loan_Term)\n",
    "    Monthly_Interest = []\n",
    "    Monthly_Balance  = []\n",
    "    Monthly_P = []\n",
    "    for i in range(1,Loan_Term+1):\n",
    "        Interest = Loan_Amount*(R-1)\n",
    "        P = X - Interest\n",
    "        Loan_Amount = Loan_Amount - (X-Interest)\n",
    "        Monthly_Interest = np.append(Monthly_Interest,Interest)\n",
    "        Monthly_P = np.append(Monthly_P,P)\n",
    "        Monthly_Balance = np.append(Monthly_Balance, Loan_Amount)\n",
    "        \n",
    "    schedule = pd.DataFrame({'P': Monthly_P, 'I':Monthly_Interest, 'Remaining':Monthly_Balance})[0:12]\n",
    "    schedule['Payment'] = schedule.P + schedule.I\n",
    "    \n",
    "    if rt == 'I':\n",
    "        return schedule[0:12].I.sum()\n",
    "    if rt =='P':\n",
    "        return schedule[0:12].P.sum()"
   ]
  },
  {
   "cell_type": "code",
   "execution_count": 43,
   "metadata": {},
   "outputs": [],
   "source": [
    "def PriceForecast(cluster):\n",
    "#Merge Available Rent with Homevalues\n",
    "\n",
    "    dfRental = pd.read_csv('Zillow Rental by Zip.csv')\n",
    "    dfRental = dfRental[['RegionName','2020-09']]\n",
    "    dfRental.columns = ['ZipCode', 'Rent']\n",
    "    dfMerged = HomeValues.merge(dfRental, on = 'ZipCode').drop(columns = \"Unnamed: 0\").dropna()\n",
    "    dfMerged['CityState'] = dfMerged.City + '-' + dfMerged.State\n",
    "\n",
    "\n",
    "    #filter to cluster 2, summarize by cluster 2 average values, merge with Macro Eco Data\n",
    "    MetroGroup = dfMerged[dfMerged.labels == cluster].groupby(['Date','CityState'])['Price'].mean().reset_index()\n",
    "    MetroGroup.columns = ['DATE','CityState', 'Price']\n",
    "    MetroGroup.DATE = pd.to_datetime(MetroGroup.DATE)\n",
    "    df = MetroGroup.merge(dfMacro, on = 'DATE')\n",
    "    df = df.drop(columns = ['SP500 Growth', 'GDP Growh'])\n",
    "\n",
    "    #Get City/State Combos in my price range\n",
    "    dfFiltered = df[df.DATE == '2020-09-30']\n",
    "    dfFiltered = dfFiltered[(dfFiltered.Price > 200000) & (dfFiltered.Price < 350000)]\n",
    "\n",
    "\n",
    "    #forecast pricing model for each city/state\n",
    "    metro_list = dfFiltered.CityState.value_counts().index\n",
    "\n",
    "    lstfcst = []\n",
    "\n",
    "    for n in metro_list:\n",
    "        fcst = var(df[df.CityState == n],12)\n",
    "        lstfcst.append(fcst)\n",
    "\n",
    "    MetroForecasts = pd.DataFrame({'CityState':metro_list, 'Price_f': lstfcst})\n",
    "\n",
    "    ForecastbyCity = dfFiltered.merge(MetroForecasts, on = 'CityState')\n",
    "    ForecastbyCity['PriceInc'] = (ForecastbyCity.Price_f - ForecastbyCity.Price)/ForecastbyCity.Price\n",
    "    ForecastbyCity = ForecastbyCity[['CityState','Price','Price_f','PriceInc']].sort_values(by = 'PriceInc')\n",
    "    dfRentSum = dfMerged[dfMerged.Date =='2020-09-30'].groupby('CityState')['Rent'].mean().reset_index()\n",
    "\n",
    "    ReturnSum = ForecastbyCity.merge(dfRentSum, on = 'CityState')\n",
    "    ReturnSum['RentalReturn'] = ReturnSum.Rent/ReturnSum.Price\n",
    "    ReturnSum['TotalReturn'] = ReturnSum.RentalReturn + ReturnSum.PriceInc\n",
    "\n",
    "    ReturnSum['Interest'] = ReturnSum.apply(mortgage, axis = 1, Down = 60000, Type = 30, Rate = 3, rt = 'I')\n",
    "    ReturnSum['Princple'] = ReturnSum.apply(mortgage, axis = 1, Down = 60000, Type = 30, Rate = 3, rt = 'P')\n",
    "    ReturnSum['MonthlyCash'] = ReturnSum.Rent  - (ReturnSum.Princple + ReturnSum.Interest)/12\n",
    "    ReturnSum['NetRentReturn'] = (ReturnSum.Rent * 12) - ReturnSum.Interest\n",
    "    ReturnSum['TotalReturn'] = (ReturnSum.Price_f - ReturnSum.Price) + ReturnSum.NetRentReturn\n",
    "    ReturnSum['TotalReturn_Per'] = ReturnSum.TotalReturn/ReturnSum.Price\n",
    "    ReturnSum['Cluster'] = cluster\n",
    "    return ReturnSum"
   ]
  },
  {
   "cell_type": "code",
   "execution_count": 44,
   "metadata": {},
   "outputs": [],
   "source": [
    "#create forecasts for each cluster\n",
    "\n",
    "c0 = PriceForecast(0).sort_values(by = 'TotalReturn_Per', ascending = False)\n",
    "c1 = PriceForecast(1).sort_values(by = 'TotalReturn_Per', ascending = False)\n",
    "c2 = PriceForecast(2).sort_values(by = 'TotalReturn_Per', ascending = False)\n",
    "c3 = PriceForecast(3).sort_values(by = 'TotalReturn_Per', ascending = False)\n",
    "\n"
   ]
  },
  {
   "cell_type": "code",
   "execution_count": 142,
   "metadata": {},
   "outputs": [
    {
     "data": {
      "text/plain": [
       "(490, 13)"
      ]
     },
     "execution_count": 142,
     "metadata": {},
     "output_type": "execute_result"
    }
   ],
   "source": [
    "#export for tableau\n",
    "\n",
    "full = pd.concat([c0, c2, c3, c1])\n",
    "full = full[full.CityState.duplicated() == False]\n",
    "full.shape"
   ]
  },
  {
   "cell_type": "code",
   "execution_count": 143,
   "metadata": {},
   "outputs": [],
   "source": [
    "full.to_csv('HomeForecasts.csv')"
   ]
  },
  {
   "cell_type": "code",
   "execution_count": 68,
   "metadata": {},
   "outputs": [],
   "source": [
    "def graph_price(citystate):\n",
    "    Actuals = df[df.CityState == citystate][['DATE','Price']].set_index('DATE')\n",
    "    Actuals['Type'] = 'Actual'\n",
    "    Forecast = var(df[df.CityState == citystate], 12, rt = 'all')\n",
    "    lastdate = Actuals.index[-1]\n",
    "    dtarray = []\n",
    "    for i in range(1,len(Forecast)+1):\n",
    "        dtarray.append(pd.to_datetime(lastdate) + MonthEnd(i))\n",
    "        \n",
    "    dfForecast = pd.DataFrame({'Price':Forecast,'Type':'Forecast'}, index = dtarray)\n",
    "    Prices = pd.concat([Actuals,dfForecast])\n",
    "    Prices['pct_change'] = Prices.Price.pct_change()\n",
    "    sns.lineplot(data = Prices, x = Prices.index, y = 'Price', hue= 'Type')\n",
    "    return Prices"
   ]
  },
  {
   "cell_type": "code",
   "execution_count": 71,
   "metadata": {},
   "outputs": [
    {
     "data": {
      "text/html": [
       "<div>\n",
       "<style scoped>\n",
       "    .dataframe tbody tr th:only-of-type {\n",
       "        vertical-align: middle;\n",
       "    }\n",
       "\n",
       "    .dataframe tbody tr th {\n",
       "        vertical-align: top;\n",
       "    }\n",
       "\n",
       "    .dataframe thead th {\n",
       "        text-align: right;\n",
       "    }\n",
       "</style>\n",
       "<table border=\"1\" class=\"dataframe\">\n",
       "  <thead>\n",
       "    <tr style=\"text-align: right;\">\n",
       "      <th></th>\n",
       "      <th>Price</th>\n",
       "      <th>Type</th>\n",
       "      <th>pct_change</th>\n",
       "    </tr>\n",
       "  </thead>\n",
       "  <tbody>\n",
       "    <tr>\n",
       "      <th>1996-01-31</th>\n",
       "      <td>65087.000000</td>\n",
       "      <td>Actual</td>\n",
       "      <td>NaN</td>\n",
       "    </tr>\n",
       "    <tr>\n",
       "      <th>1996-02-29</th>\n",
       "      <td>65179.000000</td>\n",
       "      <td>Actual</td>\n",
       "      <td>0.001413</td>\n",
       "    </tr>\n",
       "    <tr>\n",
       "      <th>1996-03-31</th>\n",
       "      <td>65429.000000</td>\n",
       "      <td>Actual</td>\n",
       "      <td>0.003836</td>\n",
       "    </tr>\n",
       "    <tr>\n",
       "      <th>1996-04-30</th>\n",
       "      <td>65844.000000</td>\n",
       "      <td>Actual</td>\n",
       "      <td>0.006343</td>\n",
       "    </tr>\n",
       "    <tr>\n",
       "      <th>1996-05-31</th>\n",
       "      <td>66337.000000</td>\n",
       "      <td>Actual</td>\n",
       "      <td>0.007487</td>\n",
       "    </tr>\n",
       "    <tr>\n",
       "      <th>...</th>\n",
       "      <td>...</td>\n",
       "      <td>...</td>\n",
       "      <td>...</td>\n",
       "    </tr>\n",
       "    <tr>\n",
       "      <th>2021-05-31</th>\n",
       "      <td>278235.979454</td>\n",
       "      <td>Forecast</td>\n",
       "      <td>0.018013</td>\n",
       "    </tr>\n",
       "    <tr>\n",
       "      <th>2021-06-30</th>\n",
       "      <td>283309.020661</td>\n",
       "      <td>Forecast</td>\n",
       "      <td>0.018233</td>\n",
       "    </tr>\n",
       "    <tr>\n",
       "      <th>2021-07-31</th>\n",
       "      <td>290325.902785</td>\n",
       "      <td>Forecast</td>\n",
       "      <td>0.024768</td>\n",
       "    </tr>\n",
       "    <tr>\n",
       "      <th>2021-08-31</th>\n",
       "      <td>294727.827039</td>\n",
       "      <td>Forecast</td>\n",
       "      <td>0.015162</td>\n",
       "    </tr>\n",
       "    <tr>\n",
       "      <th>2021-09-30</th>\n",
       "      <td>297667.555672</td>\n",
       "      <td>Forecast</td>\n",
       "      <td>0.009974</td>\n",
       "    </tr>\n",
       "  </tbody>\n",
       "</table>\n",
       "<p>312 rows × 3 columns</p>\n",
       "</div>"
      ],
      "text/plain": [
       "                    Price      Type  pct_change\n",
       "1996-01-31   65087.000000    Actual         NaN\n",
       "1996-02-29   65179.000000    Actual    0.001413\n",
       "1996-03-31   65429.000000    Actual    0.003836\n",
       "1996-04-30   65844.000000    Actual    0.006343\n",
       "1996-05-31   66337.000000    Actual    0.007487\n",
       "...                   ...       ...         ...\n",
       "2021-05-31  278235.979454  Forecast    0.018013\n",
       "2021-06-30  283309.020661  Forecast    0.018233\n",
       "2021-07-31  290325.902785  Forecast    0.024768\n",
       "2021-08-31  294727.827039  Forecast    0.015162\n",
       "2021-09-30  297667.555672  Forecast    0.009974\n",
       "\n",
       "[312 rows x 3 columns]"
      ]
     },
     "execution_count": 71,
     "metadata": {},
     "output_type": "execute_result"
    },
    {
     "data": {
      "image/png": "[encoded data removed]",
      "text/plain": [
       "<Figure size 432x288 with 1 Axes>"
      ]
     },
     "metadata": {
      "needs_background": "light"
     },
     "output_type": "display_data"
    }
   ],
   "source": [
    "graph_price(85041)"
   ]
  },
  {
   "cell_type": "code",
   "execution_count": 802,
   "metadata": {},
   "outputs": [
    {
     "data": {
      "text/plain": [
       "8714.960117060049"
      ]
     },
     "execution_count": 802,
     "metadata": {},
     "output_type": "execute_result"
    }
   ],
   "source": [
    "mortgage = pd.DataFrame({'P': Monthly_P, 'I':Monthly_Interest, 'Remaining':Monthly_Balance})\n",
    "mortgage['Payment'] = mortgage.P + mortgage.I\n",
    "pd.set_option('display.float_format', lambda x: '%.5f' % x)\n",
    "mortgage[0:12].P.sum()\n",
    "mortgage[0:12].I.sum()\n",
    "mortgage[0:12]['Payment'].sum()"
   ]
  },
  {
   "cell_type": "markdown",
   "metadata": {},
   "source": [
    "### Ignore for Now"
   ]
  },
  {
   "cell_type": "code",
   "execution_count": 19,
   "metadata": {},
   "outputs": [],
   "source": [
    "import xgboost"
   ]
  },
  {
   "cell_type": "code",
   "execution_count": 20,
   "metadata": {},
   "outputs": [],
   "source": [
    "\n",
    "# transform a time series dataset into a supervised learning dataset\n",
    "def series_to_supervised(data, n_in=1, n_out=1, dropnan=True):\n",
    "    n_vars = 1 if type(data) is list else data.shape[1]\n",
    "    df = pd.DataFrame(data)\n",
    "    cols = list()\n",
    "    # input sequence (t-n, ... t-1)\n",
    "    for i in range(n_in, 0, -1):\n",
    "        cols.append(df.shift(i))\n",
    "        # forecast sequence (t, t+1, ... t+n)\n",
    "    for i in range(0, n_out):\n",
    "        cols.append(df.shift(-i))\n",
    "        # put it all together\n",
    "    agg = pd.concat(cols, axis=1)\n",
    "        # drop rows with NaN values\n",
    "    if dropnan:\n",
    "        agg.dropna(inplace=True)\n",
    "    return agg.values"
   ]
  },
  {
   "cell_type": "code",
   "execution_count": 88,
   "metadata": {},
   "outputs": [],
   "source": [
    "df['MA'] = df.Price.shift(1).rolling(window = 1).mean()"
   ]
  },
  {
   "cell_type": "code",
   "execution_count": 89,
   "metadata": {},
   "outputs": [],
   "source": [
    "df = df.dropna()"
   ]
  },
  {
   "cell_type": "code",
   "execution_count": 90,
   "metadata": {},
   "outputs": [
    {
     "data": {
      "text/html": [
       "<div>\n",
       "<style scoped>\n",
       "    .dataframe tbody tr th:only-of-type {\n",
       "        vertical-align: middle;\n",
       "    }\n",
       "\n",
       "    .dataframe tbody tr th {\n",
       "        vertical-align: top;\n",
       "    }\n",
       "\n",
       "    .dataframe thead th {\n",
       "        text-align: right;\n",
       "    }\n",
       "</style>\n",
       "<table border=\"1\" class=\"dataframe\">\n",
       "  <thead>\n",
       "    <tr style=\"text-align: right;\">\n",
       "      <th></th>\n",
       "      <th>DATE</th>\n",
       "      <th>Price</th>\n",
       "      <th>MORTGAGE30US</th>\n",
       "      <th>GDP</th>\n",
       "      <th>GDP Growh</th>\n",
       "      <th>UNRATE</th>\n",
       "      <th>UMCSENT</th>\n",
       "      <th>HOUST</th>\n",
       "      <th>SP_Value</th>\n",
       "      <th>SP500 Growth</th>\n",
       "      <th>PE_Ratio</th>\n",
       "      <th>MA</th>\n",
       "    </tr>\n",
       "  </thead>\n",
       "  <tbody>\n",
       "    <tr>\n",
       "      <th>4</th>\n",
       "      <td>1996-05-31</td>\n",
       "      <td>89999.968669</td>\n",
       "      <td>8.0700</td>\n",
       "      <td>10998.322</td>\n",
       "      <td>0.016678</td>\n",
       "      <td>5.6</td>\n",
       "      <td>89.4</td>\n",
       "      <td>1504.0</td>\n",
       "      <td>661.23</td>\n",
       "      <td>0.021725</td>\n",
       "      <td>19.10</td>\n",
       "      <td>89776.250995</td>\n",
       "    </tr>\n",
       "    <tr>\n",
       "      <th>5</th>\n",
       "      <td>1996-06-30</td>\n",
       "      <td>90217.281115</td>\n",
       "      <td>8.3200</td>\n",
       "      <td>10998.322</td>\n",
       "      <td>0.016678</td>\n",
       "      <td>5.3</td>\n",
       "      <td>92.4</td>\n",
       "      <td>1467.0</td>\n",
       "      <td>668.50</td>\n",
       "      <td>0.010995</td>\n",
       "      <td>19.15</td>\n",
       "      <td>89999.968669</td>\n",
       "    </tr>\n",
       "    <tr>\n",
       "      <th>6</th>\n",
       "      <td>1996-07-31</td>\n",
       "      <td>90426.130518</td>\n",
       "      <td>8.2450</td>\n",
       "      <td>11096.976</td>\n",
       "      <td>0.008970</td>\n",
       "      <td>5.5</td>\n",
       "      <td>94.7</td>\n",
       "      <td>1472.0</td>\n",
       "      <td>644.07</td>\n",
       "      <td>-0.036545</td>\n",
       "      <td>18.26</td>\n",
       "      <td>90217.281115</td>\n",
       "    </tr>\n",
       "    <tr>\n",
       "      <th>7</th>\n",
       "      <td>1996-08-31</td>\n",
       "      <td>90657.666090</td>\n",
       "      <td>8.0020</td>\n",
       "      <td>11096.976</td>\n",
       "      <td>0.008970</td>\n",
       "      <td>5.1</td>\n",
       "      <td>95.3</td>\n",
       "      <td>1557.0</td>\n",
       "      <td>662.68</td>\n",
       "      <td>0.028894</td>\n",
       "      <td>18.60</td>\n",
       "      <td>90426.130518</td>\n",
       "    </tr>\n",
       "    <tr>\n",
       "      <th>8</th>\n",
       "      <td>1996-09-30</td>\n",
       "      <td>90888.407478</td>\n",
       "      <td>8.2300</td>\n",
       "      <td>11096.976</td>\n",
       "      <td>0.008970</td>\n",
       "      <td>5.2</td>\n",
       "      <td>94.7</td>\n",
       "      <td>1475.0</td>\n",
       "      <td>674.88</td>\n",
       "      <td>0.018410</td>\n",
       "      <td>18.75</td>\n",
       "      <td>90657.666090</td>\n",
       "    </tr>\n",
       "    <tr>\n",
       "      <th>...</th>\n",
       "      <td>...</td>\n",
       "      <td>...</td>\n",
       "      <td>...</td>\n",
       "      <td>...</td>\n",
       "      <td>...</td>\n",
       "      <td>...</td>\n",
       "      <td>...</td>\n",
       "      <td>...</td>\n",
       "      <td>...</td>\n",
       "      <td>...</td>\n",
       "      <td>...</td>\n",
       "      <td>...</td>\n",
       "    </tr>\n",
       "    <tr>\n",
       "      <th>295</th>\n",
       "      <td>2020-05-31</td>\n",
       "      <td>178843.742773</td>\n",
       "      <td>3.2325</td>\n",
       "      <td>17302.511</td>\n",
       "      <td>-0.089861</td>\n",
       "      <td>13.3</td>\n",
       "      <td>72.3</td>\n",
       "      <td>1038.0</td>\n",
       "      <td>2919.61</td>\n",
       "      <td>0.002465</td>\n",
       "      <td>27.82</td>\n",
       "      <td>178116.717674</td>\n",
       "    </tr>\n",
       "    <tr>\n",
       "      <th>296</th>\n",
       "      <td>2020-06-30</td>\n",
       "      <td>179591.444868</td>\n",
       "      <td>3.1625</td>\n",
       "      <td>17302.511</td>\n",
       "      <td>-0.089861</td>\n",
       "      <td>11.1</td>\n",
       "      <td>78.1</td>\n",
       "      <td>1265.0</td>\n",
       "      <td>3104.66</td>\n",
       "      <td>0.063382</td>\n",
       "      <td>31.29</td>\n",
       "      <td>178843.742773</td>\n",
       "    </tr>\n",
       "    <tr>\n",
       "      <th>297</th>\n",
       "      <td>2020-07-31</td>\n",
       "      <td>180451.367319</td>\n",
       "      <td>3.0160</td>\n",
       "      <td>18583.984</td>\n",
       "      <td>0.074063</td>\n",
       "      <td>10.2</td>\n",
       "      <td>72.5</td>\n",
       "      <td>1487.0</td>\n",
       "      <td>3207.62</td>\n",
       "      <td>0.034619</td>\n",
       "      <td>32.33</td>\n",
       "      <td>179591.444868</td>\n",
       "    </tr>\n",
       "    <tr>\n",
       "      <th>298</th>\n",
       "      <td>2020-08-31</td>\n",
       "      <td>181462.588368</td>\n",
       "      <td>2.9350</td>\n",
       "      <td>18583.984</td>\n",
       "      <td>0.074063</td>\n",
       "      <td>8.4</td>\n",
       "      <td>74.1</td>\n",
       "      <td>1373.0</td>\n",
       "      <td>3391.71</td>\n",
       "      <td>0.036865</td>\n",
       "      <td>34.18</td>\n",
       "      <td>180451.367319</td>\n",
       "    </tr>\n",
       "    <tr>\n",
       "      <th>299</th>\n",
       "      <td>2020-09-30</td>\n",
       "      <td>182619.044487</td>\n",
       "      <td>2.8900</td>\n",
       "      <td>18583.984</td>\n",
       "      <td>0.074063</td>\n",
       "      <td>7.9</td>\n",
       "      <td>80.4</td>\n",
       "      <td>1459.0</td>\n",
       "      <td>3365.52</td>\n",
       "      <td>-0.038508</td>\n",
       "      <td>33.92</td>\n",
       "      <td>181462.588368</td>\n",
       "    </tr>\n",
       "  </tbody>\n",
       "</table>\n",
       "<p>296 rows × 12 columns</p>\n",
       "</div>"
      ],
      "text/plain": [
       "          DATE          Price  MORTGAGE30US        GDP  GDP Growh  UNRATE  \\\n",
       "4   1996-05-31   89999.968669        8.0700  10998.322   0.016678     5.6   \n",
       "5   1996-06-30   90217.281115        8.3200  10998.322   0.016678     5.3   \n",
       "6   1996-07-31   90426.130518        8.2450  11096.976   0.008970     5.5   \n",
       "7   1996-08-31   90657.666090        8.0020  11096.976   0.008970     5.1   \n",
       "8   1996-09-30   90888.407478        8.2300  11096.976   0.008970     5.2   \n",
       "..         ...            ...           ...        ...        ...     ...   \n",
       "295 2020-05-31  178843.742773        3.2325  17302.511  -0.089861    13.3   \n",
       "296 2020-06-30  179591.444868        3.1625  17302.511  -0.089861    11.1   \n",
       "297 2020-07-31  180451.367319        3.0160  18583.984   0.074063    10.2   \n",
       "298 2020-08-31  181462.588368        2.9350  18583.984   0.074063     8.4   \n",
       "299 2020-09-30  182619.044487        2.8900  18583.984   0.074063     7.9   \n",
       "\n",
       "     UMCSENT   HOUST  SP_Value  SP500 Growth  PE_Ratio             MA  \n",
       "4       89.4  1504.0    661.23      0.021725     19.10   89776.250995  \n",
       "5       92.4  1467.0    668.50      0.010995     19.15   89999.968669  \n",
       "6       94.7  1472.0    644.07     -0.036545     18.26   90217.281115  \n",
       "7       95.3  1557.0    662.68      0.028894     18.60   90426.130518  \n",
       "8       94.7  1475.0    674.88      0.018410     18.75   90657.666090  \n",
       "..       ...     ...       ...           ...       ...            ...  \n",
       "295     72.3  1038.0   2919.61      0.002465     27.82  178116.717674  \n",
       "296     78.1  1265.0   3104.66      0.063382     31.29  178843.742773  \n",
       "297     72.5  1487.0   3207.62      0.034619     32.33  179591.444868  \n",
       "298     74.1  1373.0   3391.71      0.036865     34.18  180451.367319  \n",
       "299     80.4  1459.0   3365.52     -0.038508     33.92  181462.588368  \n",
       "\n",
       "[296 rows x 12 columns]"
      ]
     },
     "execution_count": 90,
     "metadata": {},
     "output_type": "execute_result"
    }
   ],
   "source": [
    "df"
   ]
  },
  {
   "cell_type": "code",
   "execution_count": 91,
   "metadata": {},
   "outputs": [],
   "source": [
    "y = df.Price\n",
    "X = df.drop(columns = ['DATE', 'Price'])"
   ]
  },
  {
   "cell_type": "code",
   "execution_count": 92,
   "metadata": {},
   "outputs": [],
   "source": [
    "from sklearn.preprocessing import StandardScaler\n",
    "scaler =StandardScaler().fit(X)\n",
    "X_scale = scaler.transform(X)"
   ]
  },
  {
   "cell_type": "code",
   "execution_count": 93,
   "metadata": {},
   "outputs": [],
   "source": [
    "def train_test(data, percent = .9):\n",
    "    n = round(len(data)*.9)\n",
    "    n2 = len(data) - n\n",
    "    train = data[:n]\n",
    "    test = data[n:]\n",
    "    \n",
    "    return train, test"
   ]
  },
  {
   "cell_type": "code",
   "execution_count": 94,
   "metadata": {},
   "outputs": [],
   "source": [
    "X_train, X_test = train_test(X_scale)\n",
    "y_train, y_test = train_test(y)"
   ]
  },
  {
   "cell_type": "code",
   "execution_count": 69,
   "metadata": {},
   "outputs": [],
   "source": [
    "from xgboost import XGBRegressor"
   ]
  },
  {
   "cell_type": "code",
   "execution_count": 71,
   "metadata": {},
   "outputs": [
    {
     "data": {
      "text/plain": [
       "XGBRegressor(base_score=0.5, booster='gbtree', colsample_bylevel=1,\n",
       "             colsample_bynode=1, colsample_bytree=1, gamma=0, gpu_id=-1,\n",
       "             importance_type='gain', interaction_constraints='',\n",
       "             learning_rate=0.300000012, max_delta_step=0, max_depth=6,\n",
       "             min_child_weight=1, missing=nan, monotone_constraints='()',\n",
       "             n_estimators=1000, n_jobs=0, num_parallel_tree=1, random_state=0,\n",
       "             reg_alpha=0, reg_lambda=1, scale_pos_weight=1, subsample=1,\n",
       "             tree_method='exact', validate_parameters=1, verbosity=None)"
      ]
     },
     "execution_count": 71,
     "metadata": {},
     "output_type": "execute_result"
    }
   ],
   "source": [
    "# fit model\n",
    "model = XGBRegressor()\n",
    "model = XGBRegressor(n_estimators=1000)\n",
    "model.fit(X_train, y_train.ravel())"
   ]
  },
  {
   "cell_type": "code",
   "execution_count": 65,
   "metadata": {},
   "outputs": [],
   "source": [
    "from sklearn.linear_model import LinearRegression"
   ]
  },
  {
   "cell_type": "code",
   "execution_count": 72,
   "metadata": {},
   "outputs": [],
   "source": [
    "ypred = model.predict(X_test)"
   ]
  },
  {
   "cell_type": "code",
   "execution_count": 73,
   "metadata": {},
   "outputs": [
    {
     "data": {
      "text/plain": [
       "<matplotlib.axes._subplots.AxesSubplot at 0x23e32a325b0>"
      ]
     },
     "execution_count": 73,
     "metadata": {},
     "output_type": "execute_result"
    },
    {
     "data": {
      "image/png": "[encoded data removed]",
      "text/plain": [
       "<Figure size 432x288 with 1 Axes>"
      ]
     },
     "metadata": {
      "needs_background": "light"
     },
     "output_type": "display_data"
    }
   ],
   "source": [
    "import matplotlib.pyplot as plt\n",
    "pd.DataFrame(ypred, y_test).reset_index().plot()"
   ]
  },
  {
   "cell_type": "code",
   "execution_count": 99,
   "metadata": {},
   "outputs": [
    {
     "data": {
      "text/plain": [
       "array([[-0.6227633 ,  1.53758133, -0.01142236, -1.03223528,  0.73746727,\n",
       "        -0.27334005,  1.89741303,  0.22241621, -0.21858089,  1.51191298],\n",
       "       [-0.60757309,  1.53758133, -0.01142236, -1.03223528,  0.60613462,\n",
       "        -0.07896902,  1.99563033,  0.4534102 , -0.21595742,  1.54377718],\n",
       "       [-0.55525125,  1.53758133, -0.01142236, -1.08486043,  0.90742716,\n",
       "        -0.15671743,  2.06247563,  0.2494618 , -0.22382782,  1.57270605],\n",
       "       [-0.41853935,  1.56554381, -0.15813336, -1.03223528,  0.79154541,\n",
       "        -0.24589943,  1.88489483, -1.21671216, -0.2894145 ,  1.59739581],\n",
       "       [-0.39423501,  1.56554381, -0.15813336, -1.08486043,  0.70656547,\n",
       "        -0.25275959,  1.7896617 , -0.74850996, -0.32745477,  1.62205451],\n",
       "       [-0.54850004,  1.56554381, -0.15813336, -0.97961012,  0.76836907,\n",
       "        -0.45170405,  1.55105089, -1.674579  , -0.41140571,  1.64768691],\n",
       "       [-0.66563345,  1.62750382,  0.13756357, -0.92698497,  0.21986213,\n",
       "        -0.09726277,  1.61238697,  0.2581429 , -0.39763251,  1.67694343],\n",
       "       [-0.72909477,  1.62750382,  0.13756357, -1.03223528,  0.42072382,\n",
       "        -0.40596969,  1.83806639,  1.34421143, -0.33204584,  1.7073344 ],\n",
       "       [-0.79998242,  1.62750382,  0.13756357, -1.03223528,  0.77609452,\n",
       "        -0.2550463 ,  1.91323675,  0.31698976, -0.3149933 ,  1.73794545],\n",
       "       [-0.88268468,  1.65941034, -0.12654072, -1.13748559,  0.68338912,\n",
       "        -0.10869636,  2.06599542,  0.78829518, -0.26908263,  1.7647752 ],\n",
       "       [-0.93028068,  1.65941034, -0.12654072, -1.13748559,  0.89970171,\n",
       "        -0.10640964,  1.99087097, -0.60433725, -0.29597317,  1.78970428],\n",
       "       [-1.11222565,  1.65941034, -0.12654072, -1.08486043,  0.76064362,\n",
       "        -0.18187133,  2.04513687,  1.17493913, -0.2815441 ,  1.8158515 ],\n",
       "       [-1.13754267,  1.71443105,  0.07183095, -1.08486043,  0.77609452,\n",
       "        -0.23446584,  2.20726122,  0.81630137, -0.22186022,  1.8453328 ],\n",
       "       [-1.23813562,  1.71443105,  0.07183095, -1.08486043,  0.11170583,\n",
       "         0.14284262,  2.05635427, -1.0289116 , -0.26186809,  1.87236145],\n",
       "       [-1.24556195,  1.71443105,  0.07183095, -1.19011074,  0.37437112,\n",
       "        -0.09268933,  2.18591296,  0.61904341, -0.21136635,  1.89544333],\n",
       "       [-1.18952695,  1.765396  ,  0.03406196, -1.13748559,  0.55205647,\n",
       "         0.05823405,  2.17905703, -0.19578532, -0.23760102,  1.91595757],\n",
       "       [-1.1848011 ,  1.765396  ,  0.03406196, -1.19011074,  0.65248732,\n",
       "         0.12912231,  2.37374704,  0.97728159, -0.19956075,  1.93732692],\n",
       "       [-1.16792309,  1.765396  ,  0.03406196, -1.19011074,  0.84562356,\n",
       "         0.62305338,  2.48370206,  0.4578458 , -0.18906689,  1.95832347],\n",
       "       [-1.23273466,  1.6549817 , -1.34373162, -1.13748559,  0.88425081,\n",
       "         0.69165492,  2.63895518,  0.23503306, -0.05133487,  1.98086489],\n",
       "       [-1.34007881,  1.6549817 , -1.34373162, -1.19011074,  0.97695621,\n",
       "         0.57731902,  2.63759317,  0.27394795, -0.22513956,  2.00508022],\n",
       "       [-1.34007881,  1.6549817 , -1.34373162, -1.19011074,  0.97695621,\n",
       "         0.57731902,  2.63759317,  0.27394795,  0.04966861,  2.03126543],\n",
       "       [-1.34007881,  1.6549817 , -1.34373162, -1.19011074,  0.97695621,\n",
       "         0.57731902,  2.14405812, -2.76599295, -0.22513956,  2.03126543],\n",
       "       [-1.34007881,  1.6549817 , -1.34373162, -1.19011074,  0.97695621,\n",
       "         0.57731902,  2.14405812, -2.76599295,  0.04966861,  2.03126543],\n",
       "       [-1.35020562,  1.6549817 , -1.34373162, -0.71648436,  0.05762768,\n",
       "        -0.10412292,  1.68125233, -2.87061645, -0.18775515,  2.03126543],\n",
       "       [-1.44742297,  0.87910227, -7.0992698 ,  4.70390648, -1.27887514,\n",
       "        -0.87017343,  1.84896242,  1.66449365, -0.04543207,  2.06133068],\n",
       "       [-1.49704433,  0.87910227, -7.0992698 ,  3.96715432, -1.24024789,\n",
       "        -0.63235476,  2.09019011, -0.09055014,  0.14148996,  2.09294116],\n",
       "       [-1.54430276,  0.87910227, -7.0992698 ,  2.80940094, -0.7921718 ,\n",
       "        -0.11326979,  2.37337976,  1.52519133,  0.36907572,  2.12504533],\n",
       "       [-1.64320791,  1.46111188,  5.1163769 ,  2.33577456, -1.22479699,\n",
       "         0.39438159,  2.53094369,  0.76230028,  0.43728586,  2.15806256],\n",
       "       [-1.69789267,  1.46111188,  5.1163769 ,  1.38852179, -1.1011898 ,\n",
       "         0.13369575,  2.81266421,  0.82186518,  0.55862121,  2.19603524],\n",
       "       [-1.72827309,  1.46111188,  5.1163769 ,  1.12539602, -0.61448646,\n",
       "         0.33035349,  2.77258457, -1.17732181,  0.54156867,  2.24068901]])"
      ]
     },
     "execution_count": 99,
     "metadata": {},
     "output_type": "execute_result"
    }
   ],
   "source": [
    "modlin = LinearRegression()\n",
    "modlin.fit(X_train, y_train)\n",
    "\n",
    "\n",
    "\n",
    "X_test"
   ]
  },
  {
   "cell_type": "code",
   "execution_count": 96,
   "metadata": {},
   "outputs": [
    {
     "data": {
      "text/plain": [
       "<matplotlib.axes._subplots.AxesSubplot at 0x23e32cdddc0>"
      ]
     },
     "execution_count": 96,
     "metadata": {},
     "output_type": "execute_result"
    },
    {
     "data": {
      "image/png": "[encoded data removed]",
      "text/plain": [
       "<Figure size 432x288 with 1 Axes>"
      ]
     },
     "metadata": {
      "needs_background": "light"
     },
     "output_type": "display_data"
    }
   ],
   "source": [
    "pd.DataFrame(y_pred, y_test).reset_index().plot()"
   ]
  },
  {
   "cell_type": "code",
   "execution_count": 97,
   "metadata": {},
   "outputs": [],
   "source": [
    "from sklearn.metrics import r2_score, mean_squared_error\n",
    "import numpy as np"
   ]
  },
  {
   "cell_type": "code",
   "execution_count": 98,
   "metadata": {},
   "outputs": [
    {
     "name": "stdout",
     "output_type": "stream",
     "text": [
      "0.9914452864797514\n",
      "422.47341316062466\n"
     ]
    }
   ],
   "source": [
    "print(r2_score(y_pred, y_test))\n",
    "print(np.sqrt(mean_squared_error(y_pred, y_test)))"
   ]
  },
  {
   "cell_type": "code",
   "execution_count": 86,
   "metadata": {},
   "outputs": [],
   "source": [
    "from sklearn.ensemble import RandomForestRegressor"
   ]
  },
  {
   "cell_type": "code",
   "execution_count": 87,
   "metadata": {},
   "outputs": [
    {
     "name": "stdout",
     "output_type": "stream",
     "text": [
      "-17.375009467427816\n",
      "14734.468989191522\n"
     ]
    },
    {
     "data": {
      "text/plain": [
       "<matplotlib.axes._subplots.AxesSubplot at 0x23e32c6c850>"
      ]
     },
     "execution_count": 87,
     "metadata": {},
     "output_type": "execute_result"
    },
    {
     "data": {
      "image/png": "[encoded data removed]",
      "text/plain": [
       "<Figure size 432x288 with 1 Axes>"
      ]
     },
     "metadata": {
      "needs_background": "light"
     },
     "output_type": "display_data"
    }
   ],
   "source": [
    "rf = RandomForestRegressor()\n",
    "rf.fit(X_train, y_train)\n",
    "y_pred = rf.predict(X_test)\n",
    "print(r2_score(y_pred, y_test))\n",
    "print(np.sqrt(mean_squared_error(y_pred, y_test)))\n",
    "pd.DataFrame(y_pred, y_test).reset_index().plot()"
   ]
  }
 ],
 "metadata": {
  "kernelspec": {
   "display_name": "Python 3",
   "language": "python",
   "name": "python3"
  },
  "language_info": {
   "codemirror_mode": {
    "name": "ipython",
    "version": 3
   },
   "file_extension": ".py",
   "mimetype": "text/x-python",
   "name": "python",
   "nbconvert_exporter": "python",
   "pygments_lexer": "ipython3",
   "version": "3.8.3"
  }
 },
 "nbformat": 4,
 "nbformat_minor": 4
}
